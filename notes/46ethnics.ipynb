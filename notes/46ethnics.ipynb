{
 "cells": [
  {
   "attachments": {},
   "cell_type": "markdown",
   "metadata": {},
   "source": [
    "# ethnics and NLP"
   ]
  },
  {
   "attachments": {},
   "cell_type": "markdown",
   "metadata": {},
   "source": [
    "Ethics: study of what is good and bad to pursue in life, what is right and wrong to do in life.\n",
    "\n",
    "Legal ≠ Ethical. ethnics isn’t just “black and white”, there are many gray areas\n",
    "\n",
    "Ethics changes over time with values and beliefs of people"
   ]
  },
  {
   "attachments": {},
   "cell_type": "markdown",
   "metadata": {},
   "source": [
    "## history"
   ]
  },
  {
   "attachments": {},
   "cell_type": "markdown",
   "metadata": {},
   "source": [
    "1. Pre-2010: Early Developments\n",
    "\n",
    "    NLP application was limited\n",
    "    \n",
    "    Ethical considerations weren't as prominent.\n",
    "\n",
    "2. 2010-2015: Rise of Social Media Data\n",
    "\n",
    "    vast social media data for NLP tasks sparking ethical concerns around user consent, privacy, and data misuse.\n",
    "\n",
    "3. 2015-2020: Advancements in AI and NLP\n",
    "\n",
    "    NLP application spanded significantly with deep learning-based models like GPT and BERT. \n",
    "\n",
    "    ethical concerns: fake news, bias.\n",
    "\n",
    "4. 2020-Present: Increasing Focus on Ethical AI\n",
    "\n",
    "    AI community prioritize ethics concerns around transparency, fairness, accountability, societal implications\n",
    "\n",
    "    Various ethical guidelines and frameworks for AI are being proposed and refined. AI systems like GPT-3 are now designed with ethical safeguards, such as refusing to generate certain types of content."
   ]
  },
  {
   "attachments": {},
   "cell_type": "markdown",
   "metadata": {},
   "source": [
    "## Ethical Considerations in NLP"
   ]
  },
  {
   "attachments": {},
   "cell_type": "markdown",
   "metadata": {},
   "source": [
    "**Data Privacy and Consent**\n",
    "- Definition: use and protection of sensitive data in NLP. It involves obtaining consent from data subjects and maintaining the privacy of their data.\n",
    "- Impact of private data leakage: Loss of trust, identity theft, legal consequences\n",
    "- Anonymization Techniques: Data masking, pseudonymization, data shuffling, data generalization\n",
    "\n",
    "**Bias in NLP**\n",
    "- Definition of bias: systematic errors or prejudices in the data or algorithms used in NLP, which can lead to unfair outcomes. e.g Hate-speech, toxicity, incivility, microaggressions online, social stereotypes.\n",
    "- Types of Bias : Gender, Racial, Socioeconomic, disability, age, sexual orientation, culture, class, poverty, language, religion, national origin\n",
    "- Sources of Bias: Data (unrepresentative or biased), model (algorithmic bias, interpretation bias)\n",
    "- Impact of Bias: Biased world model, unfair decision-making, reinforcement of stereotypes\n",
    "- Bias Detection Techniques: Toxicity detection, fairness metrics, bias audits\n",
    "- Bias Mitigation Techniques: Pre-processing data (filter biased data), in-processing modifications, post-processing adjustments\n",
    "\n",
    "**Fairness and Equality**\n",
    "- Definition: NLP systems should not discriminate against certain groups and should provide equal opportunities for all.\n",
    "- Impact of Unfair NLP Systems: Discrimination, loss of opportunities, societal harm\n",
    "- Techniques to Ensure Fairness: Diverse data collection, bias mitigation algorithms, fairness metrics and evaluations\n",
    "\n",
    "**Transparency and Interpretability**\n",
    "- Definition: NLP systems should be understandable and explainable to users, regulators, and developers.\n",
    "- Techniques to ensure Transparency: Documentation, open-source models, clear communication of AI capabilities and limitations\n",
    "- Techniques for Improving Model Interpretability: Feature importance, partial dependence plots, SHAP values, LIME\n",
    "- Who is responsible for AI? AI developers, companies, policymakers, society at large\n",
    "\n",
    "**Misinformation and Abuse**\n",
    "- Definition: risk of NLP systems being used to spread false or harmful information, or being used in other malicious ways.\n",
    "- Impact of Misinformation: Misinformed public, political manipulation, harm to public health and safety\n",
    "- Fake News detection Techniques: Fact-checking algorithms, linguistic analysis, network analysis\n"
   ]
  },
  {
   "attachments": {},
   "cell_type": "markdown",
   "metadata": {},
   "source": [
    "## Regulation and Policy"
   ]
  },
  {
   "attachments": {},
   "cell_type": "markdown",
   "metadata": {},
   "source": [
    "ethical safeguards for ChatGPT\n",
    "\n",
    "- Moderation Policies: OpenAI has guidelines in place that prohibit certain types of unsafe content. For instance, ChatGPT is designed to refuse to generate content that is violent, sexually explicit, or otherwise inappropriate. \n",
    "\n",
    "- Data Privacy: retains user interactions with ChatGPT for 30 days but does not use these interactions to improve its models.\n",
    "\n",
    "- Fairness and Bias Mitigation: Pre-training on a broad Internet text corpus, followed by fine-tuning on a narrower dataset with human reviewers following guidelines. Both qualitative and quantitative analyses are conducted to understand potential bias in ChatGPT’s responses. Findings from bias analysis are used to improve guidelines and training for human reviewers, reducing biases in future model versions.\n",
    "\n",
    "- Transparency: publish most of its AI research and sharing safety, policy, and standards research."
   ]
  },
  {
   "attachments": {},
   "cell_type": "markdown",
   "metadata": {},
   "source": [
    "**ethical guidelines, regulations, and policies in the NLP community**\n",
    "\n",
    "1992 (Updated in 2018)\n",
    "\n",
    "- ACM Code of Ethics and Professional Conduct\n",
    "\n",
    "2018\n",
    "\n",
    "- GDPR (EU General Data Protection Regulation)\n",
    "- Montreal Declaration for Responsible AI: principles of well-being, autonomy, justice, privacy, knowledge, democracy, and responsibility.\n",
    "- Toronto Declaration\n",
    "- AI Now Institute's Algorithmic Impact Assessment Framework\n",
    "\n",
    "2019\n",
    "\n",
    "- OECD AI Principles: agreed upon by 42 countries and are considered as the global standard for trustworthy AI. They cover inclusivity, transparency, security, and accountability.\n",
    "\n",
    "- EU Ethics Guidelines for Trustworthy AI: 7 key requirements, including human agency and oversight, robustness and safety, privacy and data governance, transparency, diversity, non-discrimination and fairness, societal and environmental well-being, and accountability."
   ]
  },
  {
   "cell_type": "markdown",
   "metadata": {},
   "source": []
  }
 ],
 "metadata": {
  "language_info": {
   "name": "python"
  },
  "orig_nbformat": 4
 },
 "nbformat": 4,
 "nbformat_minor": 2
}
