{
 "cells": [
  {
   "attachments": {},
   "cell_type": "markdown",
   "metadata": {},
   "source": [
    "# document representation"
   ]
  },
  {
   "attachments": {},
   "cell_type": "markdown",
   "metadata": {},
   "source": [
    "count-based document representation is obtained by LSA (Latent semantic analysis), i.e., term-ducoment matrix factorization by SVD\n",
    "\n",
    "aggregated word embedding: averaging, summing, or concatenating word embeddings. \n",
    "\n",
    "Doc2Vec: an extension of Word2Vec by Le and Mikolov (2014) that explicitly learns document embeddings. Two main variants of Doc2Vec are Distributed Memory (DM) and Distributed Bag of Words (DBOW)."
   ]
  },
  {
   "cell_type": "markdown",
   "metadata": {},
   "source": [
    "## Term-document matrix"
   ]
  },
  {
   "attachments": {},
   "cell_type": "markdown",
   "metadata": {},
   "source": [
    "**Term-document matrix**: a corpus of $N$ documents is represented as a matrix $M \\in \\mathbb{R}^{|V|\\times N}$\n",
    "\n",
    "- Rows: Unique terms in the vocabulary\n",
    "\n",
    "- Columns: Documents in the collection, represented as a vector $\\in \\mathbb{R}^{|V|}$\n",
    "\n",
    "- entry: binary (occurrence), bag-of-words (Frequency),  TF-IDF (weighted frequency)"
   ]
  },
  {
   "attachments": {},
   "cell_type": "markdown",
   "metadata": {},
   "source": [
    "frequency $M_{ij}$: number of times ith words occurred in jth document\n",
    "\n",
    "TF-IDF (Term Frequency-Inverse Document Frequency) reflect the importance of a term $t$ in a document $d$, relative to the entire collection of documents.\n",
    "\n",
    "$$\n",
    "TF-IDF(t, d) = TF(t, d) \\times IDF(t)=(\\text{\\# t in d})\\times \\left(log_{10}\\frac{N}{1 + \\text{\\# docs have t}}\\right)\n",
    "$$"
   ]
  },
  {
   "attachments": {},
   "cell_type": "markdown",
   "metadata": {},
   "source": [
    "## Latent Semantic Analysis"
   ]
  },
  {
   "attachments": {},
   "cell_type": "markdown",
   "metadata": {},
   "source": [
    "Latent Semantic Analysis (LSA): PCA in NLP\n",
    "\n",
    "applies singular value decomposition (SVD) to document-term matrix (transpose of term-document matrix) \n",
    "\n",
    "$$\n",
    "M=USV^T\n",
    "$$\n",
    "\n",
    "document embeddings are $U_k S_k \\in \\mathbb{R}^{k \\times N}$ "
   ]
  },
  {
   "attachments": {},
   "cell_type": "markdown",
   "metadata": {},
   "source": [
    "### binary term-document matrix"
   ]
  },
  {
   "cell_type": "markdown",
   "metadata": {},
   "source": [
    "When query \"natural language processing\" to the two documents:\n",
    "\n",
    "- Document 1: \"linguistics semantics viterbi learning\"\n",
    "\n",
    "- Document 2: \"welcome to new haven\"\n",
    "\n",
    "**None of the words in the query directly appear in either document**, making it difficult to establish relevance using simple term frequency or TF-IDF approaches.\n",
    "\n",
    "To overcome this, we can represent documents and queries as **semantic concept vector** by reducing demension from $|V|$ to k (number of latent semantic concepts) "
   ]
  },
  {
   "cell_type": "code",
   "execution_count": null,
   "metadata": {},
   "outputs": [
    {
     "data": {
      "image/png": "[encoded data removed]",
      "text/plain": [
       "<Figure size 576x576 with 1 Axes>"
      ]
     },
     "metadata": {},
     "output_type": "display_data"
    }
   ],
   "source": [
    "import numpy as np\n",
    "import matplotlib.pyplot as plt\n",
    "from sklearn.decomposition import PCA\n",
    "from adjustText import adjust_text\n",
    "\n",
    "# Define the dataset\n",
    "docs = [['T6', 'T9'],\n",
    "             ['T1', 'T2', 'T5'],\n",
    "             ['T2', 'T5', 'T8'],\n",
    "             ['T1', 'T4', 'T6', 'T8', 'T9'],\n",
    "             ['T1', 'T7'],\n",
    "             ['T3', 'T7'],\n",
    "             ['T1', 'T3']]\n",
    "\n",
    "vocab = ['T1', 'T2', 'T3', 'T4', 'T5', 'T6', 'T7', 'T8', 'T9']\n",
    "\n",
    "# Create the term-document matrix\n",
    "td_matrix = np.zeros((len(docs), len(vocab)))\n",
    "for i, d in enumerate(docs):\n",
    "    for t in d:\n",
    "        j = vocab.index(t)\n",
    "        td_matrix[i, j] = 1\n",
    "\n",
    "# document-term matrix is transpose term-document matrix\n",
    "dt_matrix = td_matrix.T \n",
    "\n",
    "# normalize  matrix\n",
    "td_matrix = td_matrix/np.linalg.norm(td_matrix, axis=0)\n",
    "dt_matrix = dt_matrix/np.linalg.norm(dt_matrix, axis=0)\n",
    "\n",
    "# Perform SVD to obtain the left singular vectors, singular values, and right singular vectors\n",
    "k = 2\n",
    "\n",
    "U, S, Vt = np.linalg.svd(dt_matrix)\n",
    "term_embd = dt_matrix@(Vt[:k, :].T)\n",
    "\n",
    "U, S, Vt = np.linalg.svd(td_matrix)\n",
    "doc_embed = td_matrix@(Vt[:k, :].T)\n",
    "\n",
    "# Perform PCA with k=2\n",
    "# pca = PCA(n_components=2)\n",
    "# term_embd = pca.fit_transform(dt_matrix)\n",
    "# doc_embed = pca.fit_transform(td_matrix)\n",
    "# low-rank approximation\n",
    "# U_k = U[:, :k]\n",
    "# S_k = np.diag(S[:k])\n",
    "# Vt_k = Vt[:k, :]\n",
    "# doc_embed = U_k @ S_k @ Vt_k\n",
    "\n",
    "# Plot the PCA results\n",
    "plt.figure(figsize=(8, 8))\n",
    "plt.scatter(doc_embed[:, 0], doc_embed[:, 1], s=10, alpha=0.7)\n",
    "plt.scatter(term_embd[:, 0], term_embd[:, 1], s=10, alpha=0.7)\n",
    "\n",
    "# Annotate specific terms and documents\n",
    "terms_to_annotate = [1, 3, 7]\n",
    "docs_to_annotate = [6, 7]\n",
    "term_annotations = [plt.annotate(f\"T{i}\", (term_embd[i-1, 0], term_embd[i-1, 1]), fontsize=12, color='blue', \n",
    "                                  xytext=(5, 5), textcoords='offset points') for i in terms_to_annotate]\n",
    "doc_annotations = [plt.annotate(f\"D{j}\", (doc_embed[j-1, 0], doc_embed[j-1, 1]), fontsize=12, color='red', \n",
    "                                 xytext=(5, 5), textcoords='offset points') for j in docs_to_annotate]\n",
    "\n",
    "# Use adjustText to avoid annotation overlap\n",
    "adjust_text(term_annotations + doc_annotations)\n",
    "\n",
    "# Add grid and axis labels\n",
    "plt.grid()\n",
    "plt.xlabel('PCA1', fontsize=16, x=1)\n",
    "plt.ylabel('PCA2', fontsize=16, y=1)\n",
    "\n",
    "# Ensure that the plot axes cross at (0, 0)\n",
    "ax = plt.gca()\n",
    "ax.spines['left'].set_position(('data', 0))\n",
    "ax.spines['bottom'].set_position(('data', 0))\n",
    "ax.spines['right'].set_color('none')\n",
    "ax.spines['top'].set_color('none')\n"
   ]
  },
  {
   "attachments": {},
   "cell_type": "markdown",
   "metadata": {},
   "source": [
    "### Bag of words term-document matrix"
   ]
  },
  {
   "cell_type": "code",
   "execution_count": 3,
   "metadata": {},
   "outputs": [
    {
     "name": "stdout",
     "output_type": "stream",
     "text": [
      "ngram vocab: ['and dog' 'cat and' 'cat like' 'dog like' 'like and' 'like cat']\n",
      "term-document matrix:\n",
      " [[1 1 1 1 0 3]\n",
      " [1 0 1 0 1 0]\n",
      " [0 1 0 1 0 1]]\n"
     ]
    }
   ],
   "source": [
    "from sklearn.feature_extraction.text import CountVectorizer\n",
    "\n",
    "# Sample text data\n",
    "documents = [\n",
    "    \"I like cat and dog like cat like cat\",\n",
    "    \"cat like I and dog\",\n",
    "    \"Dog like cat and I\"\n",
    "]\n",
    "\n",
    "# initialize a CountVectorizer with ngram_range set to desired N-gram value\n",
    "# For example, (2, 2) for bigrams, (3, 3) for trigrams, etc.\n",
    "vectorizer = CountVectorizer(ngram_range=(2, 2))\n",
    "\n",
    "# X is term-document matrix\n",
    "X = vectorizer.fit_transform(documents)\n",
    "#  For each sequence, count the occurrences of each unique N-gram and create a feature vector \n",
    "#  (3, 7) sparse matrix  where each position corresponds to a unique N-gram and the value represents its frequency\n",
    "\n",
    "# Extract all the unique N-grams from the dataset\n",
    "ngram_vocab = vectorizer.get_feature_names_out()\n",
    "print(\"ngram vocab:\", ngram_vocab)\n",
    "\n",
    "# Convert the feature vectors to an array and print \n",
    "print(\"term-document matrix:\\n\", X.toarray()) "
   ]
  }
 ],
 "metadata": {
  "kernelspec": {
   "display_name": "d2l",
   "language": "python",
   "name": "python3"
  },
  "language_info": {
   "codemirror_mode": {
    "name": "ipython",
    "version": 3
   },
   "file_extension": ".py",
   "mimetype": "text/x-python",
   "name": "python",
   "nbconvert_exporter": "python",
   "pygments_lexer": "ipython3",
   "version": "3.8.10"
  },
  "orig_nbformat": 4
 },
 "nbformat": 4,
 "nbformat_minor": 2
}
