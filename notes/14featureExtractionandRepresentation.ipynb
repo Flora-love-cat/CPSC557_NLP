{
 "cells": [
  {
   "attachments": {},
   "cell_type": "markdown",
   "metadata": {},
   "source": [
    "# feature Extraction and representation"
   ]
  },
  {
   "attachments": {},
   "cell_type": "markdown",
   "metadata": {},
   "source": [
    "Feature extraction and representation: \n",
    "\n",
    "- converting text of various level (word, sentence, document) into a set of features (e.g., continuous vectors, or matrices)\n",
    "\n",
    "- capture essential information from the text while discarding irrelevant details.\n",
    "\n",
    "- serve as input of language model for downstream task"
   ]
  },
  {
   "attachments": {},
   "cell_type": "markdown",
   "metadata": {},
   "source": [
    "<table>\n",
    "    <tr>\n",
    "        <th>Level</th>\n",
    "        <th>Model</th>\n",
    "        <th>Description</th>\n",
    "        <th>Pros</th>\n",
    "        <th>Cons</th>\n",
    "    </tr>\n",
    "    <tr>\n",
    "        <td rowspan=\"3\">Word</td>\n",
    "        <td>One-hot Encoding</td>\n",
    "        <td>Represents words as binary vectors with a 1 at the index corresponding to the word and 0s elsewhere</td>\n",
    "        <td>Simple and easy to implement</td>\n",
    "        <td>High-dimensional, sparse vectors; doesn't capture semantic similarity</td>\n",
    "    </tr>\n",
    "    <tr>\n",
    "        <td>Distributed Word Embeddings (e.g., Word2Vec, GloVe)</td>\n",
    "        <td>Represents words as dense vectors that capture semantic information</td>\n",
    "        <td>Lower-dimensional, dense vectors; captures semantic similarity</td>\n",
    "        <td>Requires pre-training on large text corpus</td>\n",
    "    </tr>\n",
    "    <tr>\n",
    "        <td>Contextualized Word Embeddings (e.g., BERT, ELMo)</td>\n",
    "        <td>Represents words as dense vectors that capture semantic information within context</td>\n",
    "        <td>Captures context-dependent meanings; adaptable to various NLP tasks</td>\n",
    "        <td>Requires pre-training on large text corpus; computationally expensive</td>\n",
    "    </tr>\n",
    "    <tr>\n",
    "        <td rowspan=\"3\">Sentence</td>\n",
    "        <td>Averaged Word Embeddings</td>\n",
    "        <td>Represents sentences as the average of their word embeddings</td>\n",
    "        <td>Simple and fast; captures some semantic information</td>\n",
    "        <td>Loses word order information; may not capture complex sentence structure</td>\n",
    "    </tr>\n",
    "    <tr>\n",
    "        <td>Contextualized Embeddings (e.g., BERT, GPT)</td>\n",
    "        <td>Represents sentences as contextualized word embeddings that capture word meaning within context</td>\n",
    "        <td>Captures word order and semantic information; adaptable to various NLP tasks</td>\n",
    "        <td>Requires pre-training on large text corpus; computationally expensive</td>\n",
    "    </tr>\n",
    "    <tr>\n",
    "        <td>Parse Tree</td>\n",
    "        <td>Represents sentences as trees that capture their syntactic structure</td>\n",
    "        <td>Captures word order and syntactic relationships between words</td>\n",
    "        <td>May not capture semantic information; parsing can be computationally expensive</td>\n",
    "    </tr>\n",
    "    <tr>\n",
    "        <td rowspan=\"3\">Document</td>\n",
    "        <td>Bag-of-Words (BoW)</td>\n",
    "        <td>Represents documents as frequency vectors of words, disregarding word order</td>\n",
    "        <td>Simple and easy to implement; works well for some tasks</td>\n",
    "        <td>High-dimensional, sparse vectors; loses word order and grammar information</td>\n",
    "    </tr>\n",
    "    <tr>\n",
    "        <td>TF-IDF</td>\n",
    "        <td>Represents documents as weighted frequency vectors that emphasize important and discriminative words</td>\n",
    "        <td>Improves performance in classification and clustering tasks compared to BoW</td>\n",
    "        <td>High-dimensional, sparse vectors; loses word order and grammar information</td>\n",
    "    </tr>\n",
    "    <tr>\n",
    "        <td>Doc2Vec</td>\n",
    "        <td>Represents documents as dense vectors that capture semantic information and relationships between words</td>\n",
    "        <td>Lower-dimensional, dense vectors; captures semantic information</td>\n",
    "        <td>Requires pre-training on large text corpus; may not capture complex document structure</td>\n",
    "    </tr>\n",
    "</table>"
   ]
  }
 ],
 "metadata": {
  "language_info": {
   "name": "python"
  },
  "orig_nbformat": 4
 },
 "nbformat": 4,
 "nbformat_minor": 2
}
