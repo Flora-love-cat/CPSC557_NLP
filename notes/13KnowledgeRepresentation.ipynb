{
 "cells": [
  {
   "cell_type": "markdown",
   "metadata": {},
   "source": [
    "# Knowledge Representation"
   ]
  },
  {
   "cell_type": "markdown",
   "metadata": {},
   "source": [
    "## definition"
   ]
  },
  {
   "cell_type": "markdown",
   "metadata": {},
   "source": [
    "Knowledge representation is the process of encoding knowledge about the world in a structured and unambiguous format that can be understood and manipulated by computers, support inference over the encoded knowledge."
   ]
  },
  {
   "cell_type": "markdown",
   "metadata": {},
   "source": [
    "## Knowledge Representation language"
   ]
  },
  {
   "cell_type": "markdown",
   "metadata": {},
   "source": [
    "- Symbolic\n",
    "\n",
    "    - Logic-based: A logic system used for knowledge representation.\n",
    "\n",
    "        - Propositional logic: Represents statements as simple propositions connected by logical connectives.\n",
    "        - First-order logic: Extends propositional logic with quantifiers, variables, and predicates to represent relationships between objects.\n",
    "        - Higher-order logic: Generalizes first-order logic by allowing quantification over predicates and functions.\n",
    "        - Description Logics: representing ontological knowledge, focusing on class hierarchies and relationships.\n",
    "        \n",
    "    - Semantic networks: graph using nodes for concepts and edges for relationships between concepts.\n",
    "\n",
    "    - Frames: similar to objects in object-oriented programming using attributes and values and are useful for representing complex entities with multiple properties.\n",
    "\n",
    "    - Scripts\n",
    "    \n",
    "    - Ontologies: A structured, higher-level framework incorporating various knowledge representation languages and techniques.\n",
    "\n",
    "\n",
    "- Bayesian Networks: A probabilistic graphical model representing variables and their conditional dependencies using a directed acyclic graph (DAG), useful for modeling uncertain knowledge and reasoning under uncertainty.\n"
   ]
  },
  {
   "cell_type": "markdown",
   "metadata": {},
   "source": [
    "## Components in knowledge representation\n",
    "\n",
    "Entities: Objects, individuals, or concepts.\n",
    "\n",
    "Attributes: Properties or characteristics of entities.\n",
    "\n",
    "Relations: hierarchy and relationships between Entities, such as ISA (Is-A), AKO (A-Kind-Of), and HASA (Has-A).\n",
    "- ISA: a category or class membership, e.g., \"Milo ISA Cat.\"\n",
    "\n",
    "- AKO: a subclass or specialization, e.g., \"SiameseCat AKO Cat.\"\n",
    "\n",
    "- HASA: a property or part-whole relationship, e.g., \"Car HASA Engine.\"\n",
    "\n",
    "Functions: Mappings from one or more objects to another object.\n",
    "\n",
    "Rules: Statements that describe relationships or dependencies between entities or their attributes.\n",
    "\n",
    "Events: Situations or occurrences involving entities and their attributes or relations."
   ]
  },
  {
   "cell_type": "markdown",
   "metadata": {},
   "source": [
    "## types of knowledge representation"
   ]
  },
  {
   "cell_type": "markdown",
   "metadata": {},
   "source": [
    "|type|sentence|representation|\n",
    "|----|--------|--------------|\n",
    "|event|Martin ate fish in the morning|∃e,t: ISA(e, Eating) ∧ Eater(e, Martin) ∧ Eaten(e, Fish) ∧ ISA(t, Morning) ∧ Occurs(e, t)|\n",
    "|past tense|I has arrived in New York|∃ i,e,w,t: Isa(w, Arriving) ∧ Arriver(w, Speaker) ∧ Destination(w, NewYork) ∧ IntervalOf(w, i) ∧ EndPoint(i, e) ∧ Precedes(e, Now)|\n",
    "|present tense|I am currently arriving in New York|∃ i,e,w,t: Isa(w, Arriving) ∧ Arriver(w, Speaker) ∧ Destination(w, NewYork) ∧ IntervalOf(w, i) ∧ MemberOf(i, Now)|\n",
    "|future tense|I will arrive in New York|∃ i,e,w,t: Isa(w, Arriving) ∧ Arriver(w, Speaker) ∧ Destination(w, NewYork) ∧ IntervalOf(w, i) ∧ StartPoint(i, s) ∧ Precedes(Now, s)|\n",
    "|belief|I believe that Mary ate British food|Believes(Speaker,∃v:ISA(v,Eating)∧Eater(v,Mary)∧Eaten(v,BritishFood))|\n"
   ]
  },
  {
   "cell_type": "markdown",
   "metadata": {},
   "source": [
    "# First Order Logic (FOL)\n",
    "\n"
   ]
  },
  {
   "cell_type": "markdown",
   "metadata": {},
   "source": [
    "The term **order** in first-order and higher-order logic refers to **level of abstraction** allowed in the logic:\n",
    "\n",
    "- First-order logic (FOL) only allows quantification over individuals/objects but not over predicates or functions. \n",
    "\n",
    "    predicates and functions are treated as fixed entities.\n",
    "\n",
    "- Higher-order logic (HOL) allows quantification over predicates, functions, and even higher-order entities. \n",
    "\n",
    "    functions can take other functions as arguments, predicates can apply to other predicates.\n",
    "\n",
    "    Higher-order logics are more expressive than first-order logic but come with increased complexity and reduced decidability."
   ]
  },
  {
   "cell_type": "markdown",
   "metadata": {},
   "source": [
    "## syntax"
   ]
  },
  {
   "cell_type": "markdown",
   "metadata": {},
   "source": [
    "<table>\n",
    "  <tr>\n",
    "    <th colspan=\"6\">Logical Components in First-Order Logic</th>\n",
    "  </tr>\n",
    "  <tr>\n",
    "    <th colspan='4'>Component</th>\n",
    "    <th>Definition</th>\n",
    "    <th>Example</th>\n",
    "  </tr>\n",
    "  <tr>\n",
    "    <td rowspan='6'>Formula</td>\n",
    "    <td rowspan='4'>AtomicFormula</td>\n",
    "    <td colspan='2'>Predicate</td>\n",
    "    <td>A symbol representing a relation between terms or properties of terms.</td>\n",
    "    <td>\\text{EatsFish}(x): object x eats fish</td>\n",
    "  </tr>\n",
    "  <tr>\n",
    "    <td rowspan='3'>Term</td>\n",
    "    <td>Constant</td>\n",
    "    <td>A term representing a specific object in the domain of discourse.</td>\n",
    "    <td>Tom: a particular cat</td>\n",
    "  </tr>\n",
    "  <tr>\n",
    "    <td>Variable</td>\n",
    "    <td>A term representing an unspecified object that can be instantiated with a specific object.</td>\n",
    "    <td>x: object x</td>\n",
    "  </tr>\n",
    "  <tr>\n",
    "    <td>Function</td>\n",
    "    <td>A term representing a mapping from one or more objects to another object.</td>\n",
    "    <td>AgeOf(x): maps an object x to its age.</td>\n",
    "  </tr>\n",
    "  <tr>\n",
    "    <td rowspan='2'>Complex Formula</td>\n",
    "    <td colspan='2'>Connective</td>\n",
    "    <td>A symbol combining formulas into more complex formulas.</td>\n",
    "    <td>¬ (negation) <br> ∧ (conjunction)<br>  ∨ (disjunction)<br>  ⇒ (implication)<br>  ⇔ (biconditional)</td>\n",
    "  </tr>\n",
    "  <tr>\n",
    "    <td colspan='2'>Quantifier</td>\n",
    "    <td>A symbol representing scope of a formula.</td>\n",
    "    <td>∀ (universal quantifier, \"for all\") <br> ∃ (existential quantifier, \"there exists\")</td>\n",
    "  </tr>\n",
    "</table>\n"
   ]
  },
  {
   "cell_type": "markdown",
   "metadata": {},
   "source": [
    "FOL has a well-defined syntax that includes **logical components: Formula, Atomic Formula, Term, Constant, Variable, Predicate, Function, Connective, Quantifier**\n",
    "\n",
    "Formula: A well-formed expression in FOL that can be evaluated as true or false. Formulas can be atomic or complex.\n",
    "\n",
    "Atomic Formula: A formula that cannot be broken down into smaller formulas. It consists of a predicate symbol applied to a tuple of terms.\n",
    "\n",
    "- $P(x)$: predicate P is true for the object x.\n",
    "\n",
    "- $R(a, b)$: predicate R is true between the objects a and b.\n",
    "\n",
    "\n",
    "Complex Formula: A formula that is formed by combining atomic formulas using connectives and quantifiers.\n",
    "\n",
    "- $P(x) \\wedge Q(x)$: both P(x) and Q(x) are true for the object x.\n",
    "\n",
    "- $\\forall x (P(x) \\to Q(x))$: for all objects x, if P(x) is true, then Q(x) is also true."
   ]
  },
  {
   "cell_type": "markdown",
   "metadata": {},
   "source": [
    "## Lambda Expression"
   ]
  },
  {
   "cell_type": "markdown",
   "metadata": {},
   "source": [
    "- Lambda expression is a concise way to represent anonymous functions\n",
    "\n",
    "    useful in formalizing semantics of natural language\n",
    "\n",
    "    applied domain: math, CS (functional programming languages), and logic. \n",
    "\n",
    "- typical form: $λx.φ(x)$\n",
    "\n",
    "    - $x$ is a variable\n",
    "\n",
    "    - $φ(x)$ is a function that takes $x$ as input and returns the result of evaluating $φ(x)$.\n",
    "\n",
    "- e.g., a lambda expression for incrementing a number by 1 can be written as $λx.x+1$. \n",
    "\n",
    "    $(λx.x+1)(3)=3+1=4$: apply this lambda expression to a specific value 3, which evaluates to 4."
   ]
  },
  {
   "cell_type": "markdown",
   "metadata": {},
   "source": [
    "<table border=\"1\">\n",
    "  <tr>\n",
    "    <th>Lambda expression</th>\n",
    "    <th>Description</th>\n",
    "    <th>Example</th>\n",
    "  </tr>\n",
    "  <tr>\n",
    "    <td>λx.sleeps(x)</td>\n",
    "    <td> a function that takes one argument 'x' and returns the expression sleeps(x)</td>\n",
    "    <td>[λx.sleeps(x)](Mary): expression sleeps(Mary) states that Mary sleeps.</td>\n",
    "  </tr>\n",
    "  <tr>\n",
    "    <td>λx.like(Mary,x)</td>\n",
    "    <td> a function that takes one argument 'x' and returns the expression like(Mary, x)</td>\n",
    "    <td>[λx.likes(Mary,x)](John): expression likes(Mary,John) states that Mary likes John.</td>\n",
    "  </tr>\n",
    "  <tr>\n",
    "    <td>λx.(λy.like(x,y))</td>\n",
    "    <td> a higher-order function that takes one argument 'x' and returns another function (λy.like(x,y)), which takes 'y' as an argument</td>\n",
    "    <td>[λx.(λy.like(x,y))](Mary): create functions that express Mary liking 'y'. </td>\n",
    "  </tr>\n",
    "  <tr>\n",
    "    <td>λP.P(Mary)</td>\n",
    "    <td> a function that takes another function 'P' as an argument and applies it to the entity Mary</td>\n",
    "    <td>[λP.P(Mary)](married): check if Mary is married</td>\n",
    "  </tr>\n",
    "</table>\n"
   ]
  },
  {
   "cell_type": "markdown",
   "metadata": {},
   "source": [
    "## techniques for quantified statements"
   ]
  },
  {
   "cell_type": "markdown",
   "metadata": {},
   "source": [
    "### Universal Instantiation\n",
    "\n",
    "infer a specific instance from a universally quantified sentence $\\forall v\\ \\alpha$ by substitute variable $v$ in formula $\\alpha$ with a ground term $g$\n",
    "\n",
    "$$\n",
    "\\frac{\\forall v\\ \\alpha}{\\text{Subst}(\\{v/g\\}, \\alpha)}\n",
    "$$\n",
    "\n",
    "e.g., All cats eat fish, Martin is a cat, Blub is a fish -> Martin eats Blub\n",
    "\n",
    "$$\n",
    "\\frac{\\forall x (Cat(x) ∧ Fish(y) \\Rightarrow Eats(x, y))}{Cat(Martin) ∧ Fish(Blub) \\Rightarrow Eats(Martin, Blub)}\n",
    "$$"
   ]
  },
  {
   "cell_type": "markdown",
   "metadata": {},
   "source": [
    "### Existential Instantiation\n",
    "\n",
    "infer a specific instance from an existentially quantified sentence $\\exists v\\ \\alpha$ by substitute variable $v$ by a Skolem constant symbol $k$ not appearing elsewhere in the knowledge base. \n",
    "\n",
    "$$\n",
    "\\frac{\\exists v\\ \\alpha}{\\text{Subst}(\\{v/k\\}, \\alpha)}\n",
    "$$\n",
    "\n",
    "e.g., Cat $C_1$ eats fish\n",
    "\n",
    "$$\n",
    "\\frac{\\exists x (Cat(x) ∧ EatsFish(x))}{Cat(C_1) ∧ EatsFish(C_1)}\n",
    "$$\n"
   ]
  },
  {
   "cell_type": "markdown",
   "metadata": {},
   "source": [
    "### Unification"
   ]
  },
  {
   "cell_type": "markdown",
   "metadata": {},
   "source": [
    "unification: \n",
    "\n",
    "- finds a substitution $\\theta$ that makes two given expressions $p$ and $q$ syntactically identical or one expression subsume another\n",
    "\n",
    "- then inference rule can be applied, and new facts or subgoals can be derived. \n",
    "\n",
    "Example\n",
    "\n",
    "- unification is possible for $p=Eats(x,y), q=Eats(x,Blub)$\n",
    "\n",
    "    substitute y with Blub $\\theta = \\{y/Blub\\}$ \n",
    "\n",
    "- unification is possible for $p=Eats(Martin,y), q=Eats(x,Blub)$\n",
    "\n",
    "    substitute x with Martin and y with Blub $\\theta = \\{x/Martin,y/Blub\\}$\n",
    "\n",
    "- unification fails for $p=Eats(Martin,y), q=Eats(y,Blub)$\n",
    "\n",
    "    If substitute y with Martin in the second expression, we get Eats(Martin, Blub), but this would require Martin and Blub to be the same, which they are not. "
   ]
  },
  {
   "cell_type": "markdown",
   "metadata": {},
   "source": [
    "# Inference"
   ]
  },
  {
   "cell_type": "markdown",
   "metadata": {},
   "source": [
    "## inference techniques"
   ]
  },
  {
   "cell_type": "markdown",
   "metadata": {},
   "source": [
    "- Deductive reasoning 演绎: based on given premises. rule-based systems, particularly in logic programming and production \n",
    "\n",
    "    - Forward chaining: data-driven. starts with known facts and applies inference rules to derive new facts.\n",
    "\n",
    "    - Backward chaining: goal-driven. find evidence to support a given goal by working backward through the rules. logic programming languages like Prolog.\n",
    "\n",
    "- Inductive reasoning 归纳: based on observations\n",
    "\n",
    "- Abductive reasoning 溯源: inference to the best explanation and abduction."
   ]
  },
  {
   "cell_type": "markdown",
   "metadata": {},
   "source": [
    "### Deductive inference rules"
   ]
  },
  {
   "cell_type": "markdown",
   "metadata": {},
   "source": [
    "- Modus ponens 肯定前置条件: $A$ and $\\forall A: A \\Rightarrow B$, therefore $B$\n",
    "\n",
    "    if have a proposition \"A\" and an implication \"A ⇒ B\", can infer \"B.\"\n",
    "\n",
    "    e.g. $\\text{Cat}(\\text{Martin})$ (Martin is a Cat) and $\\forall x: \\text{Cat}(x) \\Rightarrow \\text{EatsFish}(x)$, can infer $\\text{EatsFish}(\\text{Martin})$ (Cat Martin eats fish)\n",
    "\n",
    "- Modus tollens 否定后置条件: $\\neg B$ and $\\forall A: A \\Rightarrow B$, therefore $\\neg A$\n",
    "\n",
    "    if you have a proposition \"A ⇒ B\" and you know \"¬B\" (not B), you can infer \"¬A\" (not A).\n",
    "\n",
    "    e.g. $\\neg \\text{EatsFish}(\\text{Martin})$ (Martin doesn't eat fish) and $\\forall x: \\text{Cat}(x) \\Rightarrow \\text{EatsFish}(x)$, can infer $\\neg \\text{Cat}(\\text{Martin})$ (Martin is not a cat)"
   ]
  },
  {
   "cell_type": "markdown",
   "metadata": {},
   "source": [
    "## Logical Language Understanding"
   ]
  },
  {
   "attachments": {},
   "cell_type": "markdown",
   "metadata": {},
   "source": [
    "Logical Language Understanding is an approach to understanding natural language by converting it into a formal, logical representation. This method involves several steps, including semantic analysis, world knowledge, inference, and drawing conclusions.\n",
    "\n",
    "### Semantic Analysis\n",
    "\n",
    "The process of extracting meaning from the text and representing it in a formal structure. \n",
    "\n",
    "In this example \"The girl ($g_1$) is eating a salad ($s_1$) using a fork ($f_1$) at 1:24 pm.\", the following entities and relationships are identified:\n",
    "\n",
    "- Girl ($g_1$)\n",
    "- Salad ($s_1$)\n",
    "- Fork ($f_1$)\n",
    "- $\\mathrm{EatingEvent}(e_1) \\land \\mathrm{Eater}(e_1, g_1) \\land \\mathrm{Eaten}(e_1, p_1) \\land \\mathrm{Instrument}(e_1, f_1) \\land \\mathrm{Time}(e, \"1:24 \\, \\mathrm{pm}\")$\n",
    "\n",
    "\n",
    "\n",
    "### World Knowledge\n",
    "\n",
    "General knowledge about the world is incorporated to provide context and assist in understanding the text. \n",
    "\n",
    "Example: if something is a salad, then it is also food.\n",
    "\n",
    "$$\\forall x: \\mathrm{Salad}(x) \\Rightarrow \\mathrm{Food}(x)$$\n",
    "\n",
    "\n",
    "### Inference\n",
    "\n",
    "Inference rules are applied to the semantic representation and world knowledge to draw new conclusions. \n",
    "\n",
    "e.g.: If someone (z) is hungry at time $t_0$, and there's an eating event (e) where they eat food (y) at time $t_0$, and time $t_1$ comes after $t_0$, then the person (z) is no longer hungry at time t1.\n",
    "\n",
    "$\\forall z, t_0, t_1, y, e: \\mathrm{Hungry}(z, t_0) \\land \\mathrm{EatingEvent}(e) \\land \\mathrm{Eater}(e, z) \\land \\mathrm{Eaten}(e, y) \\land \\mathrm{Time}(e, t_0) \\land \\mathrm{Food}(y) \\land \\mathrm{Precedes}(t_0, t_1) \\Rightarrow \\lnot \\mathrm{Hungry}(z, t_1)$\n",
    "\n",
    "\n",
    "\n",
    "### Conclusion\n",
    "\n",
    "Based on the semantic analysis, world knowledge, and inference rules, we can draw the conclusion:\n",
    "\n",
    "$$\n",
    "\\neg \\text{Hungry} (g_1, \\text{now})\n",
    "$$\n",
    "\n",
    "The girl (g1) is not hungry now.\n"
   ]
  },
  {
   "cell_type": "markdown",
   "metadata": {},
   "source": []
  },
  {
   "cell_type": "markdown",
   "metadata": {},
   "source": []
  }
 ],
 "metadata": {
  "language_info": {
   "name": "python"
  },
  "orig_nbformat": 4
 },
 "nbformat": 4,
 "nbformat_minor": 2
}
