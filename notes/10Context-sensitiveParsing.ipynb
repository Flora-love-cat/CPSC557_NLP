{
 "cells": [
  {
   "cell_type": "markdown",
   "metadata": {},
   "source": [
    "# Mildly Context-Sensitive Grammar"
   ]
  },
  {
   "cell_type": "markdown",
   "metadata": {},
   "source": [
    "expressive power: > context-free grammars\n",
    "\n",
    "- cross-serial dependencies and long-distance dependencies\n",
    "\n",
    "- context-sensitive languages $a^n b^n c^n d^n$ with the same number of a's, b's, and c's"
   ]
  },
  {
   "cell_type": "markdown",
   "metadata": {},
   "source": [
    "Example cross-serial dependency \n",
    "\n",
    "- I like New York\n",
    "\n",
    "- I like and hate New York\n",
    "\n",
    "- I like and would rather be in New York\n",
    "\n",
    "- I gave a book to Chen and a laptop to Jorge\n",
    "\n",
    "- I gave a book and a laptop to Chen and Jorge, respectively\n",
    "\n",
    "- I want Chen to stay and Jorge to leave\n",
    "\n",
    "- I like and Chen hates, New York\n"
   ]
  },
  {
   "attachments": {},
   "cell_type": "markdown",
   "metadata": {},
   "source": [
    "# Unification Grammar"
   ]
  },
  {
   "attachments": {},
   "cell_type": "markdown",
   "metadata": {},
   "source": [
    "## definition"
   ]
  },
  {
   "attachments": {},
   "cell_type": "markdown",
   "metadata": {},
   "source": [
    "unification grammar: A type of feature-based grammar that uses **features** to represent properties (e.g., tense, number, gender) and constraints on how elements can combine based on these properties."
   ]
  },
  {
   "attachments": {},
   "cell_type": "markdown",
   "metadata": {},
   "source": [
    "## type"
   ]
  },
  {
   "attachments": {},
   "cell_type": "markdown",
   "metadata": {},
   "source": [
    "**Parameterized grammar**: uses parameterized rules with attributes and values to enforce constraints on sentence structure.  Parameterized rules, e.g.,\n",
    "- S → NP[person,number,\"nominative\"] VP[person,number]\n",
    "\n",
    "- VP[person,number] → V[person,number] NP[person,number,\"accusative\"]\n",
    "\n",
    "- NP[\"first\",number,\"nominative\"] → DET[number] N[number]"
   ]
  },
  {
   "attachments": {},
   "cell_type": "markdown",
   "metadata": {},
   "source": [
    "**Head-Driven Phrase Structure Grammar (HPSG)**: combines principles from phrase structure/dependency/unification grammar. each constituent has a \"head\" that determines its syntactic and semantic properties, and constituents combine based on feature unification.\n",
    "\n",
    "**Lexical-Functional Grammar (LFG)**: using two levels of syntactic information: constituent structure (c-structure) and functional structure (f-structure). feature unification occurs at the f-structure level, capturing grammatical functions and their relationships.\n",
    "\n",
    "**Tree Adjoining Grammar (TAG)**: using a set of elementary trees and tree-combining operations. Feature structures can be associated with tree nodes to enforce constraints on tree combination.\n",
    "\n",
    "**Combinatory Categorial Grammar (CCG)**: assigns each word a syntactic category representing its combinatorial properties. Feature structures can be added to these categories.\n",
    "\n",
    "**Construction Grammar (CxG)**: emphasize the role of constructions (pairings of form and meaning) in language structure. Feature structures can be associated with constructions."
   ]
  },
  {
   "cell_type": "markdown",
   "metadata": {},
   "source": [
    "## advantage"
   ]
  },
  {
   "attachments": {},
   "cell_type": "markdown",
   "metadata": {},
   "source": [
    "- representation of linguistic properties and constraints.\n",
    "\n",
    "- generate and parse sentences that are both correct in grammar (agreement, subcategorization) and semantics (type coersion, selectional restriction)."
   ]
  },
  {
   "attachments": {},
   "cell_type": "markdown",
   "metadata": {},
   "source": [
    "- agreement with features\n",
    "\n",
    "```markdown\n",
    "      1. S → NP VP \n",
    "            [NP person = VP person]\n",
    "\n",
    "      2. S → Aux NP VP \n",
    "            [Aux person = NP person]\n",
    "\n",
    "      3. Verb → bites \n",
    "            [Verb person = 3]\n",
    "\n",
    "      4. Verb → bite \n",
    "            [Verb person = 1]\n",
    "```"
   ]
  },
  {
   "attachments": {},
   "cell_type": "markdown",
   "metadata": {},
   "source": [
    "- Subcategorization with Features\n",
    "\n",
    "    ```markdown\n",
    "        1. VP → Verb \n",
    "            [VP SUBCAT = intrans]\n",
    "\n",
    "        2. VP → Verb NP \n",
    "            [VP SUBCAT = trans]\n",
    "            \n",
    "        3. VP → Verb NP NP \n",
    "            [VP SUBCAT = ditrans]\n",
    "    ```"
   ]
  },
  {
   "cell_type": "markdown",
   "metadata": {},
   "source": [
    "## feature structure representation"
   ]
  },
  {
   "attachments": {},
   "cell_type": "markdown",
   "metadata": {},
   "source": [
    "Feature Structure (FS) or Feature Description (FD):\n",
    "\n",
    "- Attribute-Value Matrix (AVM):  a nested list of attribute-value pairs. A matrix where rows represent attributes and columns represent their corresponding values.\n",
    "\n",
    "- DAG (Directed Acyclic Graph): A graph that has directed edges and no cycles. Feature paths (from root to a node)"
   ]
  },
  {
   "attachments": {},
   "cell_type": "markdown",
   "metadata": {},
   "source": [
    "<!DOCTYPE html>\n",
    "<html>\n",
    "  <head>\n",
    "    <title>Display Two Images on the Same Row in HTML</title>\n",
    "    <style>\n",
    "      .image-container {\n",
    "        display: flex;\n",
    "        flex-direction: row;\n",
    "        justify-content: center;\n",
    "      }\n",
    "      .image-container > div {\n",
    "        margin: 0 10px;\n",
    "        text-align: center;\n",
    "      }\n",
    "      .image-container img {\n",
    "        max-width: 100%;\n",
    "        height: auto;\n",
    "      }\n",
    "      .image-container .image-title {\n",
    "        margin-top: 10px;\n",
    "        text-align: center;\n",
    "      }\n",
    "    </style>\n",
    "  </head>\n",
    "  <body>\n",
    "    <div class=\"image-container\">\n",
    "      <div>\n",
    "        <div class=\"image-title\">Attribute-value Matrix</div>\n",
    "        <br>\n",
    "        <img src='https://images.ctfassets.net/nrgyaltdicpt/1VfH909E9WtKm3mKCdRXFm/c80f0f7ae14b397d60143ed4828136de/AVMexample2.svg' alt=\"Attribute-value Matrix\">\n",
    "      </div>\n",
    "      <div>\n",
    "        <div class=\"image-title\">Directed acyclic graph</div>\n",
    "        <br>\n",
    "        <img src=\"https://www.researchgate.net/profile/Pontus-Waernestal/publication/2541804/figure/fig1/AS:341133096964096@1458343876086/The-feature-structure-represented-as-a-Directed-Acyclic-Graph-DAG.png\" alt=\"DAG\">\n",
    "      </div>\n",
    "    </div>\n",
    "  </body>\n",
    "</html>\n"
   ]
  },
  {
   "attachments": {},
   "cell_type": "markdown",
   "metadata": {},
   "source": [
    "## feature unification"
   ]
  },
  {
   "attachments": {
    "image.png": {
     "image/png": "[encoded data removed]"
    }
   },
   "cell_type": "markdown",
   "metadata": {},
   "source": [
    "![image.png](attachment:image.png)"
   ]
  },
  {
   "attachments": {},
   "cell_type": "markdown",
   "metadata": {},
   "source": [
    "### recursive definition"
   ]
  },
  {
   "attachments": {},
   "cell_type": "markdown",
   "metadata": {},
   "source": [
    "feature unification: recursively combine two feature structures if they can be merged into a consistent feature structure.\n",
    "\n",
    "- unify Leaf nodes if:\n",
    "    - They are the same\n",
    "    - One can \"subsume\" the other\n",
    "    - Special case: One or both are blank\n",
    "\n",
    "**Subsumption** 包容: The process of unifying a more general concept with a more specific concept in feature structures, where the more general concept is subsumed by the more specific concept.\n",
    "\n",
    "- \"undefined\" is the most general concept\n",
    "- \"fail\" is the least general concept"
   ]
  },
  {
   "attachments": {},
   "cell_type": "markdown",
   "metadata": {},
   "source": [
    "### algorithm"
   ]
  },
  {
   "attachments": {},
   "cell_type": "markdown",
   "metadata": {},
   "source": [
    "```python\n",
    "if possible: \n",
    "\n",
    "    unifying two feature structures by merging them into a consistent feature structure\n",
    "\n",
    "else: \n",
    "\n",
    "    return failure\n",
    "```"
   ]
  },
  {
   "attachments": {},
   "cell_type": "markdown",
   "metadata": {},
   "source": [
    "\n",
    "```html\n",
    "function UNIFY(f1-orig, f2-orig) returns f-structure or failure\n",
    "f1 = Dereferenced contents of f1-orig\n",
    "f2 = Dereferenced contents of f2-orig\n",
    "if f1 and f2 are identical then\n",
    "  f1.pointer = f2\n",
    "  return f2\n",
    "else if f1 is null then\n",
    "  f1.pointer = f2\n",
    "  return f2\n",
    "else if f2 is null then\n",
    "  f2.pointer = f1\n",
    "  return f1\n",
    "else if both f1 and f2 are complex feature structures then\n",
    "  f2.pointer = f1\n",
    "  for each f2-feature in f2 do\n",
    "    f1-feature = Find or create a corresponding feature in f1\n",
    "    if UNIFY(f1-feature.value, f2-feature.value) returns failure then\n",
    "      return failure\n",
    "  return f1\n",
    "else return failure\n",
    "```"
   ]
  },
  {
   "attachments": {},
   "cell_type": "markdown",
   "metadata": {},
   "source": [
    "### example"
   ]
  },
  {
   "attachments": {},
   "cell_type": "markdown",
   "metadata": {},
   "source": [
    "sentences \"eat pizza with pepperoni\" and \"eat pizza with fork,\" \n",
    "\n",
    "let's consider a simplified example of feature structures for the words:\n",
    "\n",
    "```html\n",
    "eat: {SUBJ: NP, OBJ: NP, MOD: PP}\n",
    "pizza: {CAT: NP}\n",
    "with: {CAT: PP, OBJ: NP}\n",
    "pepperoni: {CAT: NP}\n",
    "fork: {CAT: NP}\n",
    "```\n",
    "\n",
    "SUBJ: subject. OBJ: object. MOD: modifier\n",
    "\n",
    "CAT: syntactic category of a word, such as noun phrase (NP), verb phrase (VP), or prepositional phrase (PP)."
   ]
  },
  {
   "cell_type": "markdown",
   "metadata": {},
   "source": [
    "<table style=\"border-collapse: collapse; width: 100%;\">\n",
    "  <tr>\n",
    "    <th style=\"border: 1px solid black; padding: 8px;\">Sentence \"eat pizza with pepperoni\"</th>\n",
    "    <th style=\"border: 1px solid black; padding: 8px;\">Sentence \"eat pizza with fork\"</th>\n",
    "  </tr>\n",
    "  <tr>\n",
    "    <td style=\"border: 1px solid black; padding: 8px; vertical-align: top;\">\n",
    "      <ol>\n",
    "        <li><strong>Unify 'pizza' and 'pepperoni':</strong><br>\n",
    "        {CAT: NP, MOD: PP} + {CAT: NP} = {CAT: pizza, MOD: with_pepperoni}</li>\n",
    "        <li><strong>Unify 'with' and the updated 'pepperoni':</strong><br>\n",
    "        {CAT: PP, OBJ: NP} + {CAT: pizza, MOD: with_pepperoni} = {CAT: with_pepperoni, OBJ: pizza}</li>\n",
    "        <li><strong>Unify 'eat' and the updated 'pizza':</strong><br>\n",
    "        {SUBJ: NP, OBJ: NP, MOD: PP} + {CAT: pizza, MOD: with_pepperoni} = {SUBJ: NP, OBJ: pizza_with_pepperoni, MOD: PP}</li>\n",
    "      </ol>\n",
    "    </td>\n",
    "    <td style=\"border: 1px solid black; padding: 8px; vertical-align: top;\">\n",
    "      <ol>\n",
    "        <li><strong>Unify 'eat' and 'pizza':</strong><br>\n",
    "        {SUBJ: NP, OBJ: NP, MOD: PP} + {CAT: NP, MOD: PP} = {SUBJ: NP, OBJ: pizza, MOD: PP}</li>\n",
    "        <li><strong>Unify 'with' and 'fork':</strong><br>\n",
    "        {CAT: PP, OBJ: NP} + {CAT: NP} = {CAT: with_fork, OBJ: NP}</li>\n",
    "        <li><strong>Unify the updated 'eat' and the updated 'with':</strong><br>\n",
    "        {SUBJ: NP, OBJ: pizza, MOD: PP} + {CAT: with_fork, OBJ: NP} = {SUBJ: NP, OBJ: pizza, MOD: with_fork}</li>\n",
    "      </ol>\n",
    "    </td>\n",
    "  </tr>\n",
    "</table>\n"
   ]
  },
  {
   "attachments": {},
   "cell_type": "markdown",
   "metadata": {},
   "source": [
    "### NLTK example"
   ]
  },
  {
   "cell_type": "code",
   "execution_count": 5,
   "metadata": {},
   "outputs": [],
   "source": [
    "fs = FeatStruct(type='NP', number='singular', person=3)"
   ]
  },
  {
   "cell_type": "code",
   "execution_count": 10,
   "metadata": {},
   "outputs": [
    {
     "name": "stdout",
     "output_type": "stream",
     "text": [
      "[ number = 'singular' ]\n",
      "[ person = 3          ]\n",
      "[ type   = 'NP'       ] None\n",
      "[ agr  = [ number = ?n ] ]\n",
      "[                        ]\n",
      "[ subj = [ number = ?n ] ]\n"
     ]
    }
   ],
   "source": [
    "from nltk.featstruct import FeatStruct\n",
    "from nltk.sem.logic import Variable\n",
    "\n",
    "fs1 = FeatStruct(type='NP', person=3) \n",
    "fs2 = FeatStruct(type='NP', person=1) \n",
    "fs3 = FeatStruct(type='NP', number='singular')\n",
    "\n",
    "# feature unification: success and failure\n",
    "print(fs1.unify(fs3), fs2.unify(fs1))\n",
    "\n",
    "fs4 = FeatStruct(agr=FeatStruct(number=Variable('?n')), subj=FeatStruct(number=Variable('?n')))\n",
    "print(fs4)\n"
   ]
  },
  {
   "attachments": {},
   "cell_type": "markdown",
   "metadata": {},
   "source": [
    "# Tree Adjoining Grammar (TAG)"
   ]
  },
  {
   "attachments": {},
   "cell_type": "markdown",
   "metadata": {},
   "source": [
    "## structure"
   ]
  },
  {
   "attachments": {},
   "cell_type": "markdown",
   "metadata": {},
   "source": [
    "two types of basic elements:\n",
    "\n",
    "- elementary trees (initial and auxiliary trees): \n",
    "\n",
    "  small syntactic structures that can be combined using the operations to form larger trees and ultimately parse sentences.\n",
    "\n",
    "  has features that can be associated with the top half and with the bottom half. \n",
    "  \n",
    "  unification is used to merge the features of a lexical item with an elementary tree.\n",
    "\n",
    "- operations (substitution and adjunction). \n",
    "\n",
    "  - Substitution: Insert an initial tree to the bottom of a tree\n",
    "\n",
    "  - Adjunction (not in TSG): Insert an auxiliary tree fragment in the middle of a tree\n",
    "    \n",
    "    - Used for long-distance dependencies and for optional modifiers\n",
    "\n",
    "\n",
    "Lexicalized TAG: each initial or auxiliary tree is labeled with a lexical item"
   ]
  },
  {
   "attachments": {},
   "cell_type": "markdown",
   "metadata": {},
   "source": [
    "## example"
   ]
  },
  {
   "cell_type": "markdown",
   "metadata": {},
   "source": [
    "<table>\n",
    "  <tr>\n",
    "    <th>Sentence \"eat pizza with pepperoni\"</th>\n",
    "    <th>Sentence \"eat pizza with fork\"</th>\n",
    "  </tr>\n",
    "  <tr>\n",
    "    <td>\n",
    "      <pre>\n",
    "  eat → eat(VP↓)\n",
    "  pizza → pizza(NP↓)\n",
    "  with → with(PP↓)\n",
    "  pepperoni → pepperoni(NP↓)\n",
    "  <br>\n",
    "  Initial Trees:\n",
    "  [eat(VP↓)]\n",
    "  [pizza(NP↓)]\n",
    "  [with(PP↓)]\n",
    "  [pepperoni(NP↓)]\n",
    "  <br>\n",
    "  Operations:\n",
    "  Substitute(pizza, eat)\n",
    "  Substitute(pepperoni, with)\n",
    "  <span style=\"color:red\">Adjunction(with, pizza)</span>\n",
    "      </pre>\n",
    "    </td>\n",
    "    <td>\n",
    "      <pre>\n",
    "  eat → eat(VP↓)\n",
    "  pizza → pizza(NP↓)\n",
    "  with → with(PP↓)\n",
    "  fork → fork(NP↓)\n",
    "  <br>\n",
    "  Initial Trees:\n",
    "  [eat(VP↓)]\n",
    "  [pizza(NP↓)]\n",
    "  [with(PP↓)]\n",
    "  [fork(NP↓)]\n",
    "  <br>\n",
    "  Operations:\n",
    "  Substitute(pizza, eat)\n",
    "  Substitute(fork, with)\n",
    "  <span style=\"color:red\">Adjunction(with, eat)</span>\n",
    "      </pre>\n",
    "    </td>\n",
    "  </tr>\n",
    "</table>\n"
   ]
  },
  {
   "attachments": {},
   "cell_type": "markdown",
   "metadata": {},
   "source": [
    "## Tree Substitution Grammar (TSG) = context-free grammar "
   ]
  },
  {
   "cell_type": "markdown",
   "metadata": {},
   "source": [
    "- TSG has the **same expressivity as CFG** because only use tree substitution operations without adjunctions.\n",
    "\n",
    "- terminal symbols are associated with entire tree fragments (elementary trees) rather than individual nodes, which allows for the substitution of one tree fragment into another to form more complex structures. "
   ]
  },
  {
   "cell_type": "markdown",
   "metadata": {},
   "source": [
    "| Property            | Tree Substitution Grammar (TSG) | Tree Adjoining Grammar (TAG) |\n",
    "|---------------------|---------------------------------|------------------------------|\n",
    "| Formalism           | Context-Free Grammar            | Mildly Context-Sensitive     |\n",
    "| Tree Operations     | Substitution                    | Substitution, Adjunction     |\n",
    "| Expressivity        | Limited (e.g., can't handle cross-serial dependencies) | Higher (e.g., can handle cross-serial dependencies) |\n",
    "| Growth Property     | Linear                          | Linear (Constant Growth)     |\n",
    "| Parsing Complexity  | Polynomial (e.g., CYK algorithm) | Higher, but still efficient  |\n"
   ]
  },
  {
   "attachments": {},
   "cell_type": "markdown",
   "metadata": {},
   "source": [
    "# Combinatory Categorical grammar (CCG)"
   ]
  },
  {
   "attachments": {},
   "cell_type": "markdown",
   "metadata": {},
   "source": [
    "## Structure\n",
    "\n",
    "There are three main components in CCG: Categories, Combinatory rules, and Lexicon.\n",
    "\n",
    "### Lexicon\n",
    "\n",
    "A set of categories and their associated lexical items.\n",
    "\n",
    "### Categories\n",
    "\n",
    "Categories are divided into basic categories and complex categories.\n",
    "\n",
    "#### Basic Categories\n",
    "\n",
    "- Nouns (N)\n",
    "- Adjectives (N/N)\n",
    "- Articles (NP/N)\n",
    "- Prepositions ((NP\\NP)/NP)\n",
    "- Transitive verbs ((S\\NP)/NP)\n",
    "- Intransitive verbs (S\\NP)\n",
    "\n",
    "#### Complex Categories\n",
    "\n",
    "Where X and Y are categories:\n",
    "\n",
    "- X/Y: an argument of type Y should appear on the right.\n",
    "- X\\Y: an argument of type Y should appear on the left.\n",
    "\n",
    "### Combinatory Rules\n",
    "\n",
    "Operations that combine categories to form new categories.\n",
    "\n",
    "#### Function Composition\n",
    "\n",
    "Allows for the composition of functions in various directions.\n",
    "\n",
    "- X/Y Y/Z -> X/Z\n",
    "- X\\Y Z\\X -> Z\\Y\n",
    "- X/Y Y\\Z -> X\\Z\n",
    "- X/Y Z\\X -> Z/Y\n",
    "\n",
    "#### Type Raising\n",
    "\n",
    "Converts a basic category into a more complex category.\n",
    "\n",
    "- X -> Y/(Y\\X)\n",
    "- X -> Y\\(Y/X)\n",
    "\n",
    "#### Coordination\n",
    "\n",
    "Combines categories with the same type.\n"
   ]
  },
  {
   "attachments": {},
   "cell_type": "markdown",
   "metadata": {},
   "source": [
    "## corpus: CCGBank\n",
    "\n",
    "\n",
    "CCGBank is a treebank that provides CCG parsed sentences and their CCG derivations"
   ]
  },
  {
   "attachments": {},
   "cell_type": "markdown",
   "metadata": {},
   "source": [
    "## NLTK example"
   ]
  },
  {
   "cell_type": "code",
   "execution_count": 7,
   "metadata": {},
   "outputs": [],
   "source": [
    "from nltk.ccg import chart, lexicon \n",
    "\n",
    "# parser = chart.CCGChartParser(lex, chart.DefaultRuleSet)\n",
    "lex = lexicon.fromstring('''\n",
    ":- S, NP, N, VP\n",
    "Det :: NP/N\n",
    "Pro :: NP\n",
    "Modal :: S\\\\NP/VP \n",
    "TV :: VP/NP\n",
    "DTV :: TV/NP\n",
    "the => Det\n",
    "that => Det\n",
    "that => NP\n",
    "I => Pro\n",
    "you => Pro\n",
    "we => Pro\n",
    "chef => N\n",
    "cake => N \n",
    "children => N \n",
    "dough => N\n",
    "will => Modal\n",
    "should => Modal\n",
    "might => Modal\n",
    "must => Modal\n",
    "and => var\\\\.,var/.,var\n",
    "to => VP[to]/VP\n",
    "without => (VP\\\\VP)/VP[ing] \n",
    "be => TV\n",
    "cook => TV\n",
    "eat => TV\n",
    "cooking => VP[ing]/NP \n",
    "give => DTV\n",
    "is => (S\\\\NP)/NP\n",
    "prefer => (S\\\\NP)/NP \n",
    "which => (N\\\\N)/(S/NP) \n",
    "persuade => (VP/VP[to])/NP \n",
    "''')\n",
    "\n",
    "# Chart parser for CCGs\n",
    "parser = chart.CCGChartParser(lex, chart.DefaultRuleSet)"
   ]
  },
  {
   "cell_type": "code",
   "execution_count": 12,
   "metadata": {},
   "outputs": [
    {
     "name": "stdout",
     "output_type": "stream",
     "text": [
      " you    prefer      that   cake\n",
      " NP   ((S\\NP)/NP)  (NP/N)   N\n",
      "                  -------------->\n",
      "                        NP\n",
      "     --------------------------->\n",
      "               (S\\NP)\n",
      "--------------------------------<\n",
      "               S\n"
     ]
    }
   ],
   "source": [
    "# generates parse trees for the sentenc\n",
    "for parse in parser.parse(\"you prefer that cake\".split()):\n",
    "    chart.printCCGDerivation(parse) \n",
    "    break"
   ]
  },
  {
   "cell_type": "code",
   "execution_count": 5,
   "metadata": {},
   "outputs": [
    {
     "name": "stdout",
     "output_type": "stream",
     "text": [
      " that      is        the    cake      which       you    prefer\n",
      "  NP   ((S\\NP)/NP)  (NP/N)   N    ((N\\N)/(S/NP))  NP   ((S\\NP)/NP)\n",
      "                                                 ----->T\n",
      "                                              (S/(S\\NP))\n",
      "                                                 ------------------>B\n",
      "                                                       (S/NP)\n",
      "                                 ---------------------------------->\n",
      "                                               (N\\N)\n",
      "                           ----------------------------------------<\n",
      "                                              N\n",
      "                   ------------------------------------------------>\n",
      "                                          NP\n",
      "      ------------------------------------------------------------->\n",
      "                                 (S\\NP)\n",
      "-------------------------------------------------------------------<\n",
      "                                 S\n"
     ]
    }
   ],
   "source": [
    "for parse in parser.parse(\"that is the cake which you prefer\".split()):\n",
    "    chart.printCCGDerivation(parse) \n",
    "    break"
   ]
  },
  {
   "cell_type": "markdown",
   "metadata": {},
   "source": []
  }
 ],
 "metadata": {
  "kernelspec": {
   "display_name": "d2l",
   "language": "python",
   "name": "python3"
  },
  "language_info": {
   "codemirror_mode": {
    "name": "ipython",
    "version": 3
   },
   "file_extension": ".py",
   "mimetype": "text/x-python",
   "name": "python",
   "nbconvert_exporter": "python",
   "pygments_lexer": "ipython3",
   "version": "3.8.10"
  },
  "orig_nbformat": 4
 },
 "nbformat": 4,
 "nbformat_minor": 2
}
