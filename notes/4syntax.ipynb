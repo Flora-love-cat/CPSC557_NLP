{
 "cells": [
  {
   "attachments": {},
   "cell_type": "markdown",
   "metadata": {},
   "source": [
    "# syntax"
   ]
  },
  {
   "attachments": {},
   "cell_type": "markdown",
   "metadata": {},
   "source": [
    "## Basic syntactic units"
   ]
  },
  {
   "attachments": {},
   "cell_type": "markdown",
   "metadata": {},
   "source": [
    "### syntactic category"
   ]
  },
  {
   "attachments": {},
   "cell_type": "markdown",
   "metadata": {},
   "source": [
    "syntactic categories are often represented as symbols in grammar rules, such as noun phrases (NP), verb phrases (VP), adjectives (JJ)"
   ]
  },
  {
   "attachments": {},
   "cell_type": "markdown",
   "metadata": {},
   "source": [
    "| non-terminal Symbol | English                    | Chinese      | Examples                                                   |\n",
    "|--------|----------------------------|--------------|------------------------------------------------------------|\n",
    "| S      | Sentence                   | 句子          | The dog barked|\n",
    "| N      | Noun                       | 名词          | dog, book|\n",
    "| NP     | Noun Phrase                | 名词短语       | the big red ball|\n",
    "| V      | Verb                       | 动词          | vi (intransitive verb), vt (transitive verb)              |\n",
    "| VP     | Verb Phrase                | 动词短语       | is eating an apple|\n",
    "| P      | Preposition                | 介词          | for, to, in, without, before                               |\n",
    "| PP     | Prepositional Phrase       | 介词短语       | in the house|\n",
    "| C      | Complementizer             | 补语连词      | that, if, whether, since, because                          |\n",
    "| CP     | Complementizer Phrase      | 补语连词短语   | that she is happy |\n",
    "| Aux    | Auxiliary                  | 助动词        | be, have, do, will, can, might, may                        |\n",
    "| DT     | Determiner                 | 限定词        | the, a, many, no, five                                     |\n",
    "| JJ     | Adjective                  | 形容词        | happy|\n",
    "| *      | >=0 repetition              |              |                                                            |\n",
    "| ()     | Optional                   |              |                                                            |\n",
    "| \\|     | Alternative                |              |                                                            |\n",
    "| Argument | Argument (e.g., subject or object) | 谓语的参数 | subjective 'I' and objective 'you' are 2 arguments of 'verb love' |\n"
   ]
  },
  {
   "attachments": {},
   "cell_type": "markdown",
   "metadata": {},
   "source": [
    "#### verb subcategorization"
   ]
  },
  {
   "attachments": {},
   "cell_type": "markdown",
   "metadata": {},
   "source": [
    "Verbs can be subcategorized into intransitive/transitive/ditransitive, etc, based on the number and types of syntactic constituents (e.g., noun phrases, prepositional phrases, clauses) required to form a grammatically correct sentence."
   ]
  },
  {
   "attachments": {},
   "cell_type": "markdown",
   "metadata": {},
   "source": [
    "\n",
    "\n",
    "- Intransitive verbs 及物动词: These verbs require only a subject. They do not take a direct object. \n",
    "\n",
    "    Examples: sleep, run, swim.\n",
    "\n",
    "    Syntax: NP (subject) + V\n",
    "\n",
    "- Transitive verbs 不及物动词: These verbs require a subject and a direct object. \n",
    "\n",
    "    Examples: eat, read, see.\n",
    "\n",
    "    Syntax: NP (subject) + V + NP (direct object)\n",
    "\n",
    "- Ditransitive verbs 双及物动词: These verbs require a subject, a direct object, and an indirect object. \n",
    "\n",
    "    Examples: give, send, show.\n",
    "\n",
    "    Syntax: NP (subject) + V + NP (indirect object) + NP (direct object)\n",
    "\n",
    "- Verbs with prepositional phrases 介词词组动词: Some verbs require a subject and a prepositional phrase. \n",
    "\n",
    "    Examples: look (at), depend (on), listen (to).\n",
    "\n",
    "    Syntax: NP (subject) + V + PP (prepositional phrase)\n",
    "\n",
    "- Verbs with clausal complements 因果补语动词: These verbs require a subject and a clause, often introduced by a subordinating conjunction (e.g., that, if, whether) or a wh-word (e.g., who, what, when). \n",
    "\n",
    "    Examples: think, know, believe.\n",
    "\n",
    "    Syntax: NP (subject) + V + S (clause)\n",
    "\n",
    "- Complex transitive verbs 复杂及物动词: These verbs require a subject, a direct object, and an object complement, which can be a noun phrase, an adjective phrase, or a clause. \n",
    "\n",
    "    Examples: consider, make, find.\n",
    "\n",
    "    Syntax: NP (subject) + V + NP (direct object) + (NP/AdjP/S)"
   ]
  },
  {
   "attachments": {},
   "cell_type": "markdown",
   "metadata": {},
   "source": [
    "### consituency"
   ]
  },
  {
   "attachments": {},
   "cell_type": "markdown",
   "metadata": {},
   "source": [
    "- Constituency 组成 refers to the grammatical relationship between a group of words in a sentence that function as a single unit.\n",
    "\n",
    "- constituent 成分 is a single words or a phrase that function as a single unit within a hierarchical structure in a sentence. they combine to form larger syntactic structures."
   ]
  },
  {
   "attachments": {},
   "cell_type": "markdown",
   "metadata": {},
   "source": [
    "In these sentences, the constituents can be replaced to create new sentences while maintaining grammaticality.\n",
    "\n",
    "- <u>Children</u> eat pizza.\n",
    "\n",
    "- <u>They</u> eat pizza.\n",
    "\n",
    "- <u>My cousin's neighbor's children</u> eat pizza.\n",
    "\n",
    "- Eat pizza!\n",
    "\n",
    "\n",
    "Constituent Tests: used to identify constituents within a sentence. \n",
    "\n",
    "-   Substitution: Replacing a group of words with a single word (e.g., pronoun) without affecting grammaticality.\n",
    "\n",
    "-    Movement: Rearranging a group of words to a different position in the sentence without affecting grammaticality.\n",
    "    \n",
    "-    Standalone: A group of words can be a grammatical response to a question or stand alone as a complete sentence."
   ]
  },
  {
   "attachments": {},
   "cell_type": "markdown",
   "metadata": {},
   "source": [
    "### Head and dependents"
   ]
  },
  {
   "attachments": {},
   "cell_type": "markdown",
   "metadata": {},
   "source": [
    "- head: central element of a phrase, while the dependents provide additional information about the head. \n",
    "\n",
    "    e.g, in the noun phrase \"the big red ball,\" the head is the noun \"ball,\" \n",
    "\n",
    "- dependents: determiner \"the\" and the adjectives \"big\" and \"red.\""
   ]
  },
  {
   "attachments": {},
   "cell_type": "markdown",
   "metadata": {},
   "source": [
    "## phrase structure"
   ]
  },
  {
   "attachments": {},
   "cell_type": "markdown",
   "metadata": {},
   "source": [
    "### Phrase structure rules"
   ]
  },
  {
   "attachments": {},
   "cell_type": "markdown",
   "metadata": {},
   "source": [
    "Phrase structure rules are a type of grammar that describes the possible combinations of constituents in a sentence, resulting in syntactically well-formed phrases and sentences."
   ]
  },
  {
   "attachments": {},
   "cell_type": "markdown",
   "metadata": {},
   "source": [
    "### X-bar Theory"
   ]
  },
  {
   "cell_type": "markdown",
   "metadata": {},
   "source": [
    "definition\n",
    "\n",
    "- A meta-pattern simplifies grammar by a universal structure for all phrases types. \n",
    "\n",
    "- phrases have a hierarchical structure with 3 levels, where the head (X) is combined with other elements (complements, adjuncts, or specifiers) to form intermediate (X') and maximal projections (XP). each level can recursively include other X', XP, or X constituents.\n",
    "\n",
    "- tree diagram: head - bottom, X' - middle, and XP - top.\n",
    "\n",
    "\n",
    "rules:\n",
    "\n",
    "- XP → (specifier) X'\n",
    "\n",
    "- X' → X (complement)\n",
    "\n",
    "\n",
    "3 levels\n",
    "\n",
    "- head (X): core element of the phrase, can be any syntactic category, such as N (noun), V (verb), A (adjective), or P (preposition). e.g., N would represent a noun head, V a verb head, and so on.\n",
    "\n",
    "- X': (X-bar): intermediate projection of a head X, including the head itself and its complements. The X' level represents the combination of the head and any elements that are required to complete its meaning (e.g., direct objects for transitive verbs, or noun complements for certain nouns).\n",
    "\n",
    "- XP: (X-phrase): maximal projection of a head X, which encompasses the entire phrase that has X as its head. The XP level includes the head, its complements, and other elements such as specifiers and adjuncts. XP is the highest level of structure for a given phrase."
   ]
  },
  {
   "cell_type": "markdown",
   "metadata": {},
   "source": [
    "<table>\n",
    "  <tr>\n",
    "    <th>Sentence 1: \"eat pizza with pepperoni\"</th>\n",
    "    <th>Sentence 2: \"eat pizza with a fork\"</th>\n",
    "  </tr>\n",
    "  <tr>\n",
    "    <td>\n",
    "      <pre>\n",
    "VP (Head: eat)\n",
    "  V': \n",
    "    V (Head): \"eat\"\n",
    "    NP (Head: pizza):\n",
    "      N': \n",
    "        N (Head): \"pizza\"\n",
    "        PP (Head: with) (adjunct):\n",
    "          P': \n",
    "            P (Head): \"with\"\n",
    "            NP (Head: pepperoni):\n",
    "              N': \n",
    "                N (Head): <span style=\"color:red;\">\"pepperoni\"</span>\n",
    "      </pre>\n",
    "    </td>\n",
    "    <td>\n",
    "      <pre>\n",
    "VP (Head: eat)\n",
    "  V': \n",
    "    V (Head): \"eat\"\n",
    "    NP (Head: pizza):\n",
    "      N': \n",
    "        N (Head): \"pizza\"\n",
    "  PP (Head: with) (adjunct):\n",
    "    P': \n",
    "      P (Head): \"with\"\n",
    "      NP (Head: fork):\n",
    "        N': \n",
    "          N (Head): <span style=\"color:red;\">\"fork\"</span>\n",
    "      </pre>\n",
    "    </td>\n",
    "  </tr>\n",
    "</table>\n"
   ]
  },
  {
   "attachments": {},
   "cell_type": "markdown",
   "metadata": {},
   "source": [
    "## Sentence structure"
   ]
  },
  {
   "attachments": {},
   "cell_type": "markdown",
   "metadata": {},
   "source": [
    "### word order"
   ]
  },
  {
   "cell_type": "markdown",
   "metadata": {},
   "source": [
    "word order: Different languages have different preferences for order of main constituents (subject (S), verb (V), and object (O)) in a sentence. \n",
    "\n",
    "\n",
    "| Type        | Languages                     |\n",
    "|-------------|-------------------------------|\n",
    "| SVO         | English, Spanish, Mandarin    |\n",
    "| SOV         | Japanese, Hindi, Turkish      |\n",
    "| VSO         | Irish, Welsh, Classical Arabic |\n",
    "| VOS         | Malagasy, Tzotzil, Fijian     |\n",
    "| OSV         | Xavante (rare)                |\n",
    "| OVS         | Klingon (rare)                |\n",
    "\n"
   ]
  },
  {
   "attachments": {},
   "cell_type": "markdown",
   "metadata": {},
   "source": [
    "### type of sentence"
   ]
  },
  {
   "cell_type": "markdown",
   "metadata": {},
   "source": [
    "- Declarative sentences 陈述句: make a statement or express an opinion. They usually end with a period (e.g., \"She went to the store.\").\n",
    "\n",
    "- Interrogative sentences 疑问句: ask a question and typically end with a question mark (e.g., \"What time is it?\").\n",
    "\n",
    "- Imperative sentences 命令句: give a command or make a request. They usually end with a period or exclamation mark (e.g., \"Close the door.\" or \"Please, pass the salt.\").\n",
    "\n",
    "- Exclamatory sentences 感叹句: express strong emotions, such as excitement, surprise, or anger, and end with an exclamation mark (e.g., \"I can't believe it!\").\n",
    "\n",
    "- Negative sentences 否定句: express a negation, denial, or contradiction (e.g., \"I don't like broccoli.\").\n",
    "\n",
    "- Compound sentences 组合句: contain multiple independent clauses, usually connected by coordinating conjunctions (e.g., \"I wanted to go to the movies, but I had too much homework.\").\n",
    "\n",
    "- Complex sentences 复杂句: contain an independent clause and one or more dependent clauses, usually connected by subordinating conjunctions (e.g., \"Because it was raining, we stayed home.\").\n",
    "\n",
    "- Compound-complex sentences 组合复杂句: contain at least two independent clauses and at least one dependent clause (e.g., \"I finished my homework, and although it was late, I decided to watch a movie.\")."
   ]
  },
  {
   "cell_type": "markdown",
   "metadata": {},
   "source": [
    "## Syntactic relations and processes"
   ]
  },
  {
   "attachments": {},
   "cell_type": "markdown",
   "metadata": {},
   "source": [
    "Movement: elements in a sentence are rearranged to create different sentence structures. This is often used to explain phenomena such as passive constructions, question formation, and relative clauses.\n",
    "\n",
    "Binding theory: relationships between pronouns, reflexives, and their antecedents in a sentence. It aims to explain the constraints on how these elements can refer to other entities in the sentence or discourse.\n",
    "\n",
    "Case theory: Case theory examines the assignment of grammatical case to nouns and pronouns, which often indicates their syntactic function or relationship to other elements in a sentence.\n",
    "\n",
    "**agreement**: certain elements (e.g., subject, verb) in a sentence must must \"agree\" in specific features (e.g., tense, number, gender)."
   ]
  }
 ],
 "metadata": {
  "language_info": {
   "name": "python"
  },
  "orig_nbformat": 4
 },
 "nbformat": 4,
 "nbformat_minor": 2
}
