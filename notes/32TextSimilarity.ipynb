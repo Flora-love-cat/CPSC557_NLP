{
 "cells": [
  {
   "attachments": {},
   "cell_type": "markdown",
   "metadata": {},
   "source": [
    "# text similarity"
   ]
  },
  {
   "cell_type": "markdown",
   "metadata": {},
   "source": [
    "## types of text similarity"
   ]
  },
  {
   "attachments": {},
   "cell_type": "markdown",
   "metadata": {},
   "source": [
    "Morphological similarity 形态 (e.g., respect-respectful)\n",
    "\n",
    "Spelling similarity 拼写 (e.g., theater-theatre)\n",
    "\n",
    "Homophony 同音 (e.g., raise-raze-rays)\n",
    "\n",
    "Semantic similarity 语义\n",
    "\n",
    "- Synonymy 近义 including across languages (e.g., talkative-chatty, English-英语)\n",
    "\n",
    "- Sentence similarity 句子 (e.g., paraphrases 改写)\n",
    "\n",
    "- Document similarity 文章 (e.g., two news stories on the same event)"
   ]
  },
  {
   "attachments": {},
   "cell_type": "markdown",
   "metadata": {},
   "source": [
    "## application"
   ]
  },
  {
   "attachments": {},
   "cell_type": "markdown",
   "metadata": {},
   "source": [
    "Information retrieval: Enhances search engine results by considering semantically related words when matching user queries to documents.\n",
    "\n",
    "Text summarization: Identifies and groups similar words or phrases to extract key points and reduce redundancy in summaries.\n",
    "\n",
    "Semantic clustering: Groups words or documents based on their semantic similarity, aiding in topic modeling and categorization tasks.\n",
    "\n",
    "Spell checking: Suggests corrections for misspelled words by identifying closely related words in the vocabulary.\n",
    "\n",
    "Machine translation: Improves translation quality by mapping similar words across languages and preserving context.\n",
    "\n",
    "Word sense disambiguation: Resolves ambiguities in word meanings by considering the similarity between words in a given context.\n",
    "\n",
    "Sentiment analysis: Detects sentiment in text by identifying words with similar emotional connotations.\n",
    "\n",
    "Recommendation systems: Recommends relevant items (e.g., news articles or products) by analyzing the similarity between words in descriptions or user preferences.\n",
    "\n",
    "Paraphrase detection: Identifies paraphrases or alternative expressions by measuring the similarity between word sets in different sentences.\n",
    "\n",
    "Analogical reasoning: Solves analogies by comparing the semantic relationships between word pairs."
   ]
  },
  {
   "cell_type": "markdown",
   "metadata": {},
   "source": [
    "## similarity measures"
   ]
  },
  {
   "attachments": {},
   "cell_type": "markdown",
   "metadata": {},
   "source": [
    "| Similarity Measure | Formula                                               | Description                                        | suitable data                                                    | not suitable data                                |\n",
    "|--------------------|:-------------------------------------------------------:|----------------------------------------------------------|---------------------------------------------------------|--------------------------------------|\n",
    "| Jaccard Similarity | $$J(A, B) = \\frac{\\|A \\cap B\\|}{\\|A \\cup B\\|}$$       |  overlap between two sets (A and B)          | discrete set (binary, categorical)                     |  continuous data    |\n",
    "| **Cosine Similarity**  | $$\\cos(A, B) = \\frac{\\phi(A)\\phi(B)}{\\|\\phi(A)\\| \\|\\phi(B)\\|} \\in [-1, 1]$$ | angle between two non-zero vectors (A and B) | high-dimensional, sparse data ( **text**) | binary data        |\n",
    "| Euclidean Distance | $$d(A, B) = \\|\\|A-B\\|\\|=\\sqrt{\\sum_{i=1}^n (A_i - B_i)^2}$$ |  \"straight line\" distance between two points (A and B) in n-D space | continuous, low-dimensional data (numerical)            | high-dimensional, sparse data |\n"
   ]
  },
  {
   "attachments": {},
   "cell_type": "markdown",
   "metadata": {},
   "source": [
    "## text kernel"
   ]
  },
  {
   "cell_type": "markdown",
   "metadata": {},
   "source": [
    "\n",
    "\n",
    "Text kernel is a function that measures the similarity between two text sequences based on specific properties, such as common substrings, edit distances, or parse tree structures. \n",
    "\n",
    "Text kernel maps text sequences into a high-dimensional feature space, where the similarity is calculated as the inner product between the feature vectors of two sequences.\n",
    "\n",
    "Text kernels are often used in kernel-based machine learning algorithms (SVM, kernel PCA, Gaussian process) for various NLP tasks, such as text classification, sentiment analysis, document clustering, and information retrieval. "
   ]
  },
  {
   "attachments": {},
   "cell_type": "markdown",
   "metadata": {},
   "source": [
    "### types"
   ]
  },
  {
   "cell_type": "markdown",
   "metadata": {},
   "source": [
    "String kernels: Measure similarity based on the common substrings or subsequences between two text sequences.\n",
    "\n",
    "- substring: a contiguous sequence of characters within a given string where the characters appear in the same order as in the original string and without any gaps. \n",
    "\n",
    "    e.g., substrings of string \"hello\" can be \"he\", \"ell\", and \"llo\".\n",
    "\n",
    "- subsequence: a sequence of characters formed by removing >=0 characters from original string without changing order. \n",
    "\n",
    "    e.g., subsequences of string \"hello\" can be \"hlo\", \"elo\", and \"hl\".\n",
    "    \n",
    "\n",
    "Tree kernels: Measure similarity between two text sequences by comparing common subtrees between their syntactic parse trees.\n",
    "\n",
    "Feature space kernels: Measure similarity between two text sequences by mapping them into a fixed-length feature space, like Bag-of-Words or TF-IDF.\n"
   ]
  },
  {
   "cell_type": "markdown",
   "metadata": {},
   "source": []
  }
 ],
 "metadata": {
  "kernelspec": {
   "display_name": "d2l",
   "language": "python",
   "name": "python3"
  },
  "language_info": {
   "codemirror_mode": {
    "name": "ipython",
    "version": 3
   },
   "file_extension": ".py",
   "mimetype": "text/x-python",
   "name": "python",
   "nbconvert_exporter": "python",
   "pygments_lexer": "ipython3",
   "version": "3.8.10"
  },
  "orig_nbformat": 4
 },
 "nbformat": 4,
 "nbformat_minor": 2
}
