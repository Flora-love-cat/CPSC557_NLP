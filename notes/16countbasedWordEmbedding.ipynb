{
 "cells": [
  {
   "attachments": {},
   "cell_type": "markdown",
   "metadata": {},
   "source": [
    "# count-based word embedding"
   ]
  },
  {
   "attachments": {},
   "cell_type": "markdown",
   "metadata": {},
   "source": [
    "## word-context matrix (co-occurrence matrix)"
   ]
  },
  {
   "attachments": {},
   "cell_type": "markdown",
   "metadata": {},
   "source": [
    "**word-context matrix** $M \\in \\mathbb{R}^{|V_W|\\times |V_C|}$\n",
    "\n",
    "- rows: unique words in word vocabulary $V_W$\n",
    "\n",
    "- columns: unique context words in context vocabulary $V_C$"
   ]
  },
  {
   "attachments": {},
   "cell_type": "markdown",
   "metadata": {},
   "source": [
    "word vocab vs context vocab\n",
    "\n",
    "- $|V_W|= |V_C|$, word-context matrix is square: \n",
    "\n",
    "    most cases, including Word2Vec, GloVe, and other algorithms that use a sliding window to define context.\n",
    "\n",
    "\n",
    "- $|V_W|\\neq |V_C|$, word-context matrix is rectangular:\n",
    "\n",
    "    - Reducing dimensionality: selecting most frequent words as context words. matrix has more rows than columns.\n",
    "\n",
    "    - additional linguistic features: e.g. POS tags, named entity tags. matrix has fewer rows than columns.\n",
    "\n",
    "    - higher-level context: e.g., context vocab of LDA consists of topics rather than individual words. matrix has more rows than columns."
   ]
  },
  {
   "attachments": {},
   "cell_type": "markdown",
   "metadata": {},
   "source": [
    "| Word-Context Matrix | Formula | Short Description | Pros | Cons |\n",
    "|---------------------|---------|-------------------|------|------|\n",
    "| co-occurrence Matrix     | $\\#(w,c)$     | Raw co-occurrence count | Simple, easy to compute | Sparse, sensitive to frequent words |\n",
    "| PMI                 | $\\log_2 \\frac{P(w,c)}{P(w)P(c)}$ | Log ratio of joint probability to marginal probabilities | Captures word associations, less sensitive to frequent words | Negative infinity for unobserved pairs doesn't provide any meaningful information about them and lead to numerical instability. sensitive to rare words |\n",
    "| SPMI  (Shifted PMI)              | $\\log_2 \\frac{P(w,c)}{P(w)P(c)} - \\log k$ | GloVe, $k$ is the number of negative samples | Balances positive and negative associations | sensitive to rare words |\n",
    "| PPMI  (Positive PMI)              | $\\max \\left(0, \\log_2 \\frac{P(w,c)}{P(w)P(c)}\\right)$ | sets negative PMI values to 0 | Addresses negative infinity issue, less sensitive to rare words | Loses information about negative associations |\n",
    "| SPPMI  (Shifted Positive PMI)             | $\\max \\left(0, \\log_2 \\frac{P(w,c)}{P(w)P(c)}\\right) - \\log k$ | sets negative PMI values to 0 and negative sampling $k$ examples | Combines advantages of PPMI and SPMI | Can still be sensitive to rare words |\n"
   ]
  },
  {
   "attachments": {},
   "cell_type": "markdown",
   "metadata": {},
   "source": [
    "entry $M_{i, j}$: word-context co-occurrence count (correlation measure between the word $w_i$ and the context $w_j$)\n",
    "\n",
    "- standard: raw co-occurrence count, frequency of target word $w_i$ occur with context word $w_j$ together\n",
    "\n",
    "- variants: weighted co-occurrence count. PMI, SPMI, PPMI, SPPMI\n",
    "\n",
    "    give more weight to rare word co-occurrences, reduce the influence of noise or spurious co-occurrences. info-theory measure by different weighting schemes:\n",
    "\n",
    "    PMI (pointwise mutual info matrix): log ratio of joint probability to marginal probabilities. \n",
    "    \n",
    "    $$\n",
    "    \\text{PMI}(w,c) = \\log_2 \\frac{P(w,c)}{P(w)P(c)}= \\log_2 \\left [\\frac{\\frac{\\#(w,c)}{|D|}}{\\frac{\\#(w)}{|D|}\\frac{\\#(c)}{|D|}}  \\right ]= \\log_2 \\left [\\frac{\\#(w,c)\\cdot |D|}{\\#(w) \\cdot \\#(c)}  \\right ]\n",
    "    $$\n",
    "\n",
    "    $\\#(w,c)$ is the number of times the specific word-context pair $(w,c)$ occurs in corpus $D$\n",
    "\n",
    "    total number of word-context paris in corpus $|D|= \\sum_{w \\in V_W}\\sum_{c \\in V_C} \\#(w,c)$\n",
    "\n",
    "    $\\#(w) = \\sum_{c' \\in V_C} \\#(w,c')$ is the number of times the specific word $w$ occurs in $D$\n",
    "\n",
    "    $\\#(c) = \\sum_{w' \\in V_W} \\#(w',c)$ is the number of times the specific context $c$ occurs in $D$"
   ]
  },
  {
   "attachments": {},
   "cell_type": "markdown",
   "metadata": {},
   "source": [
    "- Intuition of PPMI discarding negative value: \n",
    "\n",
    "    humans can easily think of positive examples of positive association (e.g. Micky and Mouse) \n",
    "\n",
    "    but hard to invent negative examples of negative association (e.g., Micky and turkey). "
   ]
  },
  {
   "attachments": {},
   "cell_type": "markdown",
   "metadata": {},
   "source": [
    "## algorithm: SVD"
   ]
  },
  {
   "cell_type": "markdown",
   "metadata": {},
   "source": [
    "### truncated SVD"
   ]
  },
  {
   "attachments": {},
   "cell_type": "markdown",
   "metadata": {},
   "source": [
    "truncated SVD is a basic algorithm from linear algebra to achieve optimal **rank d** factorization with respect to $l_2$ loss\n",
    "\n",
    "SVD factorize $M \\in \\mathbb{R}^{|\\mathcal{V}| \\times |\\mathcal{V}|}$ into product of 3 matrices\n",
    "\n",
    "$$\n",
    "M=US V^T\n",
    "$$\n",
    "\n",
    "where $U \\in \\mathbb{R}^{|\\mathcal{V}| \\times |\\mathcal{V}|}$ is an orthonormal matrix with columns are the left singular vectors of $M$\n",
    "\n",
    "$S \\in \\mathbb{R}^{|\\mathcal{V}| \\times |\\mathcal{V}|}$ is a diagonal matrix with diagonal entries of singular values of $M$\n",
    "\n",
    "$V \\in \\mathbb{R}^{|\\mathcal{V}| \\times |\\mathcal{V}|}$ is an orthonormal matrix with columns are the right singular vectors of $M$\n",
    "\n",
    "recall 4th interpretation of PCA: low-rank (k) matrix approximation \n",
    "\n",
    "training goal: optimize over **rank d** matrix $M'$ to minimize $l_2$ reconstruction error\n",
    "\n",
    "$$\n",
    "\\hat M' = \\underset{\\text{Rank}(M')=d}{\\arg \\min}=\\left \\| M'-M \\right \\|_2^2\n",
    "$$\n",
    "\n",
    "the optimal solution is the rank d matrix $M_d \\in \\mathbb{R}^{|\\mathcal{V}| \\times |\\mathcal{V}|}$ that best approximate the original matrix $M$\n",
    "\n",
    "$$\n",
    "\\hat M' =M_d=U_dS_d V_d^T\n",
    "$$\n",
    "\n",
    "where $U_d  \\in \\mathbb{R}^{|\\mathcal{V}| \\times d}$ is an orthonormal matrix with columns are the **top d** left singular vectors of $M$\n",
    "\n",
    "$S_d \\in \\mathbb{R}^{d \\times d}$ is a diagonal matrix with **top d** diagonal entries of singular values of $M$\n",
    "\n",
    "$V_d \\in \\mathbb{R}^{|\\mathcal{V}| \\times d}$ is an orthonormal matrix with columns are the **top d** right singular vectors of $M$"
   ]
  },
  {
   "attachments": {},
   "cell_type": "markdown",
   "metadata": {},
   "source": [
    "thus, given $|\\mathcal{V}| \\gg d$, the dense, d dimensional rows of $W=U_d S_d$ is a perfect substitues for the very high-dimensional ($|\\mathcal{V}|$) rows of $M$\n",
    "\n",
    "$$\n",
    "W^{SVD}=U_d S_d \\in \\mathbb{R}^{|\\mathcal{V}| \\times |\\mathcal{V}|}\\\\[1em]\n",
    "C^{SVD}=V_d \\in \\mathbb{R}^{|\\mathcal{V}| \\times |\\mathcal{V}|}\n",
    "$$\n",
    "\n",
    "\n",
    "- word embedding $\\mathbf{w}_i \\in \\mathbb{R}^{d}$:\n",
    "\n",
    "$$\n",
    "\\mathbf{w}_i = [U_d S_d]_i = W_i\n",
    "$$\n",
    "\n",
    "- context embedding $\\mathbf{c}_i \\in \\mathbb{R}^{d}$:\n",
    "\n",
    "$$\n",
    "\\mathbf{c}_i = [V_d]_i = C_i\n",
    "$$\n",
    "\n"
   ]
  },
  {
   "cell_type": "markdown",
   "metadata": {},
   "source": [
    "### symmetric SVD"
   ]
  },
  {
   "attachments": {},
   "cell_type": "markdown",
   "metadata": {},
   "source": [
    "- word embedding matrix $W^{SVD}$ and context embedding matrix $C^{SVD}$ have different properties:\n",
    "\n",
    "    $W^{SVD}$ is not orthonormal, $C^{SVD}$ is orthonormal\n",
    "\n",
    "\n",
    "- while factorization achieved by SGNS is more **symmetric**\n",
    "\n",
    "    neither $W^{W2V}$ nor $C^{W2V}$ is orthonormal\n",
    "\n",
    "    and no bias is given to either matrics in training objective\n",
    "\n",
    "\n",
    "- thus we propose another SVD algorithm: symmetric SVD\n",
    "\n",
    "$$\n",
    "W^{SVD_{1/2}}=U_d {S_d}^{1/2}\\\\[1em]\n",
    "C^{SVD_{1/2}}=V_d {S_d}^{1/2}\n",
    "$$\n",
    "\n",
    "- this algorithm perform better than previous SVD algorithm\n",
    "\n",
    "- this algorithm can be generalized to, making $\\alpha$ a tunable parameter\n",
    "\n",
    "$$\n",
    "W^{SVD_{\\alpha}}=U_d {S_d}^{\\alpha}\\\\[1em]\n",
    "C^{SVD_{\\alpha}}=V_d {S_d}^{\\alpha}\n",
    "$$"
   ]
  },
  {
   "attachments": {},
   "cell_type": "markdown",
   "metadata": {},
   "source": [
    "## example using vanilla co-occurrence matrix with bigram context"
   ]
  },
  {
   "cell_type": "code",
   "execution_count": 5,
   "metadata": {},
   "outputs": [
    {
     "data": {
      "image/png": "[encoded data removed]",
      "text/plain": [
       "<Figure size 432x288 with 1 Axes>"
      ]
     },
     "metadata": {
      "needs_background": "light"
     },
     "output_type": "display_data"
    }
   ],
   "source": [
    "import numpy as np\n",
    "import matplotlib.pyplot as plt\n",
    "\n",
    "# Example corpus\n",
    "corpus = \"I like deep learning. I like NLP. I enjoy flying.\"\n",
    "\n",
    "# Preprocessing\n",
    "words = [word.lower() for word in corpus.split()]\n",
    "unique_words = list(set(words))\n",
    "vocab_size = len(unique_words)\n",
    "\n",
    "# Create the co-occurrence matrix with bigram context\n",
    "co_occurrence_matrix = np.zeros((vocab_size, vocab_size))\n",
    "for i in range(vocab_size - 1):\n",
    "    target_word = words[i]\n",
    "    context_word = words[i + 1]\n",
    "    co_occurrence_matrix[unique_words.index(target_word), unique_words.index(context_word)] += 1\n",
    "    co_occurrence_matrix[unique_words.index(context_word), unique_words.index(target_word)] += 1\n",
    "\n",
    "# Singular Value Decomposition (SVD) of co_occurrence_matrix\n",
    "U, s, Vt = np.linalg.svd(co_occurrence_matrix)\n",
    "\n",
    "# Select the top k singular values\n",
    "k = 2\n",
    "S_k = np.diag(s[:k])\n",
    "\n",
    "# Compute word embeddings using the matrix product U * S_k\n",
    "word_embeddings = U[:, :k] @ S_k\n",
    "\n",
    "# Visualize words in 2D\n",
    "plt.scatter(word_embeddings[:, 0], word_embeddings[:, 1], s=1)\n",
    "\n",
    "for i, word in enumerate(unique_words):\n",
    "    plt.text(word_embeddings[i, 0]+0.1, word_embeddings[i, 1]+0.1, word)\n",
    "\n",
    "plt.xlim(-1.5, 3)\n",
    "plt.ylim(-3, 1.5)\n",
    "plt.xlabel('First Singular Vector')\n",
    "plt.ylabel('Second Singular Vector')\n",
    "plt.title('LSA word embeddings (bigram)')\n",
    "plt.show()\n"
   ]
  },
  {
   "cell_type": "code",
   "execution_count": null,
   "metadata": {},
   "outputs": [],
   "source": []
  }
 ],
 "metadata": {
  "kernelspec": {
   "display_name": "d2l",
   "language": "python",
   "name": "python3"
  },
  "language_info": {
   "codemirror_mode": {
    "name": "ipython",
    "version": 3
   },
   "file_extension": ".py",
   "mimetype": "text/x-python",
   "name": "python",
   "nbconvert_exporter": "python",
   "pygments_lexer": "ipython3",
   "version": "3.8.10"
  },
  "orig_nbformat": 4
 },
 "nbformat": 4,
 "nbformat_minor": 2
}
