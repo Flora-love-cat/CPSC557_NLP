{
 "cells": [
  {
   "attachments": {},
   "cell_type": "markdown",
   "metadata": {},
   "source": [
    "# syntactic parsing depends on grammar "
   ]
  },
  {
   "attachments": {},
   "cell_type": "markdown",
   "metadata": {},
   "source": [
    "Expressive power: Dependency parsing < Constituency parsing (context-free < context-sensitive)"
   ]
  },
  {
   "attachments": {},
   "cell_type": "markdown",
   "metadata": {},
   "source": [
    "\n",
    "<table>\n",
    "  <tr>\n",
    "    <th rowspan=\"2\">Syntactic Parsing type</th>\n",
    "    <th colspan=\"3\">Grammar</th>\n",
    "    <th rowspan=\"2\" colspan=\"2\">Parsing Algorithm</th>\n",
    "    <th rowspan=\"2\">Complexity</th>\n",
    "  </tr>\n",
    "  <tr>\n",
    "    <td>Type</td>\n",
    "    <td>Chomsky Hierarchy</td>\n",
    "    <td>Subtype</td>\n",
    "  </tr>\n",
    "  <tr>\n",
    "    <td rowspan='8'>Constituency Parsing</td>\n",
    "    <td rowspan='8'>Formal grammar</td>\n",
    "    <td colspan=\"2\">Regular grammar<br>(Type 3)</td>\n",
    "    <td colspan=\"2\">Finite State Automata</td>\n",
    "    <td>O(n)</td>\n",
    "  </tr>\n",
    "  <tr>\n",
    "    <td rowspan=\"3\">Context-Free grammar<br>(Type 2)</td>\n",
    "    <td>X-bar theory</td>\n",
    "    <td rowspan=\"3\">Push-down Automata</td>\n",
    "    <td>Earley, CYK, Recursive Descent, Shift-Reduce</td>\n",
    "    <td>O(n^3)</td>\n",
    "  </tr>\n",
    "  <tr>\n",
    "    <td>Lexicalized (HPSG)</td>\n",
    "    <td>Earley, CYK</td>\n",
    "    <td>O(n^5)</td>\n",
    "  </tr>\n",
    "  <tr>\n",
    "    <td>Probabilistic</td>\n",
    "    <td>Earley, CYK</td>\n",
    "    <td>O(n^3)</td>\n",
    "  </tr>\n",
    "  <tr>\n",
    "    <td rowspan=\"2\">Mildly Context-Sensitive grammar <br>(unification grammar)</td>\n",
    "    <td>Tree Adjoining Grammar</td>\n",
    "    <td colspan=\"2\">Earley</td>\n",
    "    <td>O(n^6)</td>\n",
    "  </tr>\n",
    "  <tr>\n",
    "    <td>Combinatory Categorial Grammar</td>\n",
    "    <td colspan=\"2\">CYK</td>\n",
    "    <td>O(n^7)</td>\n",
    "  </tr>\n",
    "  <tr>\n",
    "    <td colspan=\"2\">Context-Sensitive grammar<br>(Type 1)</td>\n",
    "    <td colspan=\"2\">Linear Bounded Automaton</td>\n",
    "    <td>O(n^k), k > 1</td>\n",
    "  </tr>\n",
    "  <tr>\n",
    "    <td colspan=\"2\">Recursively Enumerable grammar<br>(Type 0)</td>\n",
    "    <td colspan=\"2\">Turing machines</td>\n",
    "    <td>Unbounded</td>\n",
    "  </tr>\n",
    "  <tr>\n",
    "    <td rowspan='2'>Dependency Parsing</td>\n",
    "    <td rowspan=\"2\" >Dependency Grammar</td>\n",
    "    <td colspan='2'>Projective</td>\n",
    "    <td colspan=\"2\">MaltParser, Neural network</td>\n",
    "    <td>O(n^2)</td>\n",
    "  </tr>\n",
    "  <tr>\n",
    "    <td colspan='2'>Non-projective</td>\n",
    "    <td colspan=\"2\">Maximum Spanning Tree, Neural network</td>\n",
    "    <td>O(n^3) or better</td>\n",
    "  </tr>\n",
    "</table>\n"
   ]
  },
  {
   "cell_type": "markdown",
   "metadata": {},
   "source": [
    "## definition"
   ]
  },
  {
   "cell_type": "markdown",
   "metadata": {},
   "source": [
    "parsing: given a **grammar**, assign a tree structure to a sentence"
   ]
  },
  {
   "cell_type": "markdown",
   "metadata": {},
   "source": [
    "## dataset"
   ]
  },
  {
   "cell_type": "markdown",
   "metadata": {},
   "source": [
    "| Dataset                  | Short Description                               | Data Source                                          | Data Size     |\n",
    "|--------------------------|-------------------------------------------------|------------------------------------------------------|--------------|\n",
    "| Penn Treebank            | Annotated corpus of English                     | Wall Street Journal, Brown Corpus, Switchboard      | ~4.5M words  |\n",
    "| WSJ subset               | Subset of Penn Treebank with WSJ articles       | Wall Street Journal                                  | ~1M words    |\n",
    "| Brown Corpus             | Annotated corpus of English from various genres | Novels, Newspapers, Academic texts, etc.            | ~1M words    |\n",
    "| Universal Dependencies   | Treebanks for various languages                 | Various sources (e.g., UD English: Penn Treebank)   | Varies       |\n",
    "| Chinese Treebank         | Annotated corpus of Chinese                     | People's Daily, Xinhua News Agency, etc.            | ~500K words  |\n",
    "| Prague Dependency Treebank | Multilayer annotated corpus of Czech          | Czech National Corpus, Czech Academic Corpus, etc.  | ~1.5M words  |\n"
   ]
  },
  {
   "cell_type": "markdown",
   "metadata": {},
   "source": [
    "## application"
   ]
  },
  {
   "attachments": {},
   "cell_type": "markdown",
   "metadata": {},
   "source": [
    "• Grammar checking\n",
    "\n",
    "• Question answering\n",
    "\n",
    "• Machine translation\n",
    "\n",
    "• Information extraction\n",
    "\n",
    "• Speech generation\n",
    "\n",
    "• Speech understanding"
   ]
  },
  {
   "cell_type": "markdown",
   "metadata": {},
   "source": [
    "## challenges"
   ]
  },
  {
   "cell_type": "markdown",
   "metadata": {},
   "source": [
    "Complexity and Ambiguity:\n",
    "\n",
    "- compared to computer language, human language Words don't have explicit types and no brackets to indicate phrase boundaries.\n",
    "\n",
    "\n",
    "- Ambiguity exists at multiple levels, including word meanings, parses, and implied information.\n",
    "\n",
    "\n",
    "Parse Tree Structures:\n",
    "\n",
    "- Sentences can have none or multiple valid parse tree structures\n",
    "\n",
    "- Context-free grammars (CFG) is **declarative** don't specify how to construct parse trees, requiring additional parsing algorithms."
   ]
  },
  {
   "attachments": {},
   "cell_type": "markdown",
   "metadata": {},
   "source": [
    "## analysis of algorithm"
   ]
  },
  {
   "attachments": {},
   "cell_type": "markdown",
   "metadata": {},
   "source": [
    "- Growth property: how size of parse tree grows w.r.t size of sentence. \n",
    "\n",
    "- Parsing complexity: computational resources (time and space) required to parse a sentence."
   ]
  },
  {
   "attachments": {},
   "cell_type": "markdown",
   "metadata": {},
   "source": [
    "## evaluation metrics"
   ]
  },
  {
   "attachments": {},
   "cell_type": "markdown",
   "metadata": {},
   "source": [
    "\n",
    "\n",
    "### constituency parsing\n",
    "\n",
    "Parseval precision and recall: \n",
    "\n",
    "- Precision = (Number of correct constituents in the parsed output) / (Total number of constituents in the parsed output)\n",
    "\n",
    "- Recall = (Number of correct constituents in the parsed output) / (Total number of correct constituents in the gold standard parse)\n",
    "\n",
    "Labeled Precision and Recall: consider proper constituents with **correct non-terminal labels**. \n",
    "\n",
    "- Labeled Precision = (Number of correct constituents with correct non-terminal labels in the parsed output) / (Total number of constituents in the parsed output)\n",
    "\n",
    "- Labeled Recall = (Number of correct constituents with correct non-terminal labels in the parsed output) / (Total number of correct constituents with correct non-terminal labels in the gold standard parse)\n",
    "\n",
    "F1 score: harmonic mean of precision and recall:\n",
    "\n",
    "- F1 = 2 * (precision * recall) / (precision + recall)\n",
    "\n",
    "Crossing Brackets: degree of structural differences between two parses. \n",
    "\n",
    "- \\# bracketing of constituents in parsed output differs from bracketing in gold standard parse. \n",
    "\n",
    "    e.g.,, crossing bracket of \"(A (B C))\" and \"((A B) C)\" = 1."
   ]
  },
  {
   "attachments": {},
   "cell_type": "markdown",
   "metadata": {},
   "source": [
    "### Dependency Parsing\n",
    "\n",
    "Attachment Score\n",
    "- \\# correct deps/# deps (attached to the right head)\n",
    "- Unlabeled dependency accuracy (UAS)\n",
    "- Labeled dependency accuracy (LAS)"
   ]
  },
  {
   "attachments": {},
   "cell_type": "markdown",
   "metadata": {},
   "source": [
    "# Automata\n",
    "Automata theory deals with abstract machines and their ability to recognize patterns or solve problems. Important types of automata include:\n",
    "\n",
    "- Deterministic Finite-State Automata (DFA): A simple computational model with a finite number of states and transitions between those states based on input symbols. DFAs have a unique transition for each state and input symbol.\n",
    "\n",
    "- Non-deterministic Finite-State Automata (NFA): Similar to DFAs, but they allow multiple transitions for the same state and input symbol. NFAs can lead to multiple possible states for a given input.\n",
    "\n",
    "- Push-down Automata (PDA): An extension of finite-state automata that includes a stack, allowing them to recognize context-free languages.\n"
   ]
  },
  {
   "attachments": {},
   "cell_type": "markdown",
   "metadata": {},
   "source": [
    "# formal grammar"
   ]
  },
  {
   "attachments": {},
   "cell_type": "markdown",
   "metadata": {},
   "source": [
    "Formalism 形式框架: mathematical framework used to describe a grammar, represent the structure and properties of a language."
   ]
  },
  {
   "attachments": {},
   "cell_type": "markdown",
   "metadata": {},
   "source": [
    "A formal grammar defines rules for generating sentences of a language, consisting of a finite set of nonterminal symbols, terminal symbols, a start symbol, and a set of production rules. \n",
    "\n",
    "The types of formal grammar, as defined by the Chomsky hierarchy, are:\n",
    "\n",
    "- Type 3: Regular grammar (finite-state automata)\n",
    "\n",
    "- Type 2: Context-Free grammar (pushdown automata)\n",
    "\n",
    "- Type 1: Context-Sensitive grammar (linear-bounded automaton)\n",
    "\n",
    "- Type 0: Recursively Enumerable grammar (Turing machines)"
   ]
  },
  {
   "attachments": {},
   "cell_type": "markdown",
   "metadata": {},
   "source": [
    "# context-free grammar (CFG)"
   ]
  },
  {
   "attachments": {},
   "cell_type": "markdown",
   "metadata": {},
   "source": [
    "## definition"
   ]
  },
  {
   "attachments": {},
   "cell_type": "markdown",
   "metadata": {},
   "source": [
    "4-tuple $(N, \\Sigma, R, S)$\n",
    "\n",
    "- $N$: non-terminal symbols\n",
    "\n",
    "- $\\Sigma$: terminal symbols\n",
    "\n",
    "- $R: A \\to \\beta$ context-free rules\n",
    "\n",
    "    - $A$ is non-terminal symbol\n",
    "\n",
    "    - $\\beta$ is a string from union $(\\Sigma \\cup N)$\n",
    "\n",
    "- $S$: start symbol from $N$"
   ]
  },
  {
   "cell_type": "markdown",
   "metadata": {},
   "source": [
    "production rule: a grammar rule that specifies how non-terminal symbols can be replaced by other non-terminal or terminal symbols to generate valid sentences in the language defined by the grammar"
   ]
  },
  {
   "cell_type": "markdown",
   "metadata": {},
   "source": [
    "- S → NP VP | CP VP\n",
    "\n",
    "    A sentence (S) can be formed by combining a noun phrase (NP) and a verb phrase (VP) or a complementizer phrase (CP) and a verb phrase (VP).\n",
    "\n",
    "- NP → (DT) (JJ*) N (CP) (PP*) \n",
    "\n",
    "    A noun phrase (NP) can be formed with an optional determiner (DT), zero or more adjectives (JJ), a noun (N), and optional complementizer phrase (CP) and/or prepositional phrase(s) (PP).\n",
    "\n",
    "- VP → V (NP) (NP) (PP) | V (NP) (CP) (PP*)\n",
    "\n",
    "    A verb phrase (VP) can be formed with a verb (V) followed by optional noun phrases (NP) and/or prepositional phrase(s) (PP), or a verb (V) followed by an optional noun phrase (NP), complementizer phrase (CP), and/or prepositional phrase(s) (PP).\n",
    "\n",
    "- PP → P NP \n",
    "\n",
    "    A prepositional phrase (PP) is formed by combining a preposition (P) and a noun phrase (NP).\n",
    "\n",
    "- CP → C S\n",
    "\n",
    "    A complementizer phrase (CP) is formed by combining a complementizer (C) and a sentence (S)."
   ]
  },
  {
   "attachments": {},
   "cell_type": "markdown",
   "metadata": {},
   "source": [
    "each symbol represents a syntactic category\n",
    "\n",
    "- **non-terminal symbol**: non-conjunctive (see syntax notebook), such as noun phrases (NP), verb phrases (VP), adjectives (JJ)\n",
    "\n",
    "- **terminal symbol**: conjunction 连词. connect phrases and clauses. e.g., and, or, but. VP -> VP and VP"
   ]
  },
  {
   "attachments": {},
   "cell_type": "markdown",
   "metadata": {},
   "source": [
    "## limitation"
   ]
  },
  {
   "cell_type": "markdown",
   "metadata": {},
   "source": [
    "Context-free grammars (CFGs) have limitations in capturing agreement features, subcategorization frames, and accounting for context-dependent rules. \n",
    "\n",
    "\n",
    "- agreement 主谓一致\n",
    "\n",
    "    agreement features (number, person, tense, case, and gender) have to be explicitly encoded as separate rules in the grammar, lead to a large number of rules and increased complexity.\n",
    "\n",
    "- Subcategorization frames 动词子语类框架: \n",
    "\n",
    "    Different verbs can take different types of complements (e.g., direct objects, empty (vi), prepositional phrases, predicative adjectives, Bare/to infinitive 不定式, Participial phrase, That-clause, question-form clasues), and capturing these distinctions result in a large number of rules.\n",
    "\n",
    "- context-dependent rules: CFGs make assumption that probability of a rule's application is independent of its context. However, this assumption does not always hold true。\n",
    "\n",
    "    When considering all noun phrases (NPs) in general, 11% are followed by a prepositional phrase (PP), 9% are determiner-noun (DT NN) structures, and 6% are pronouns (PRP).\n",
    "\n",
    "    When NPs appear in the subject position (under S), 9% are followed by a PP, 9% are DT NN structures, and 21% are pronouns.\n",
    "\n",
    "    When NPs appear in the object position (under VP), 23% are followed by a PP, 7% are DT NN structures, and 4% are pronouns."
   ]
  },
  {
   "attachments": {},
   "cell_type": "markdown",
   "metadata": {},
   "source": [
    "## Probabilistic context-free grammar\n",
    "\n",
    "Definition: A 4-tuple $(N, \\Sigma, R, S)$\n",
    "\n",
    "- N: non-terminal symbols\n",
    "- $\\Sigma$: terminal symbols (disjoint from N)\n",
    "- R: rules $(A \\to \\beta) [p]$\n",
    "  - A is a non-terminal symbol\n",
    "  - $\\beta$ is a string from $(\\Sigma \\cup N)*$\n",
    "  - p is the probability $P(\\beta|A)$\n",
    "- S: start symbol (from N)"
   ]
  },
  {
   "attachments": {},
   "cell_type": "markdown",
   "metadata": {},
   "source": [
    "## Lexicalized Grammar\n",
    "\n",
    "- basis: X-bar theory and HPSG (Head-driven Phrase Structure Grammar)\n",
    "\n",
    "\n",
    "- Use **head** of a phrase as additional information, label the phrase with its head word\n",
    "\n",
    "    head: a word in a phrase that determines syntactic and semantic properties of that phrase. \n",
    "\n",
    "    child: other words or constituents in a phrase that depend on the head. \n",
    "\n",
    "    Constituents receive their heads from their head child???\n"
   ]
  },
  {
   "attachments": {},
   "cell_type": "markdown",
   "metadata": {},
   "source": [
    "### Head-driven Phrase Structure Grammar (HPSG)"
   ]
  },
  {
   "cell_type": "markdown",
   "metadata": {},
   "source": [
    "Head-driven Phrase Structure Grammar (HPSG) describe linguistic objects like words, phrases, and sentences are described as bundles of features with values."
   ]
  },
  {
   "cell_type": "markdown",
   "metadata": {},
   "source": [
    "<table>\n",
    "  <tr>\n",
    "    <th>Eat pizza with pepperoni</th>\n",
    "    <th>Eat pizza with fork</th>\n",
    "  </tr>\n",
    "  <tr>\n",
    "    <td>\n",
    "      <pre>\n",
    "[eat\n",
    " CATEGORY = verb,\n",
    " ARGS = < [pizza\n",
    "           CATEGORY = noun,\n",
    "           MODIFIER = < [with\n",
    "                         CATEGORY = preposition,\n",
    "                         ARGS = < [pepperoni\n",
    "                                   CATEGORY = noun]]>]>]>\n",
    "      </pre>\n",
    "    </td>\n",
    "    <td>\n",
    "      <pre>\n",
    "[eat\n",
    " CATEGORY = verb,\n",
    " ARGS = < [pizza\n",
    "           CATEGORY = noun,\n",
    "           MODIFIER = < [with\n",
    "                         CATEGORY = preposition,\n",
    "                         ARGS = < [<span style=\"color:red\">fork</span>\n",
    "                                   CATEGORY = noun]]>]>]>\n",
    "      </pre>\n",
    "    </td>\n",
    "  </tr>\n",
    "</table>\n"
   ]
  },
  {
   "cell_type": "markdown",
   "metadata": {},
   "source": [
    "<h5>HPSG vs. X-bar Theory<h5/>\n",
    "<table>\n",
    "  <tr>\n",
    "    <th>Aspect</th>\n",
    "    <th>HPSG</th>\n",
    "    <th>X-bar Theory</th>\n",
    "  </tr>\n",
    "  <tr>\n",
    "    <td>Formalism</td>\n",
    "    <td>Constraint-based</td>\n",
    "    <td>Transformational-generative</td>\n",
    "  </tr>\n",
    "  <tr>\n",
    "    <td>Representation</td>\n",
    "    <td>Feature structures</td>\n",
    "    <td>Tree structures</td>\n",
    "  </tr>\n",
    "  <tr>\n",
    "    <td>Expressiveness</td>\n",
    "    <td>More expressive, can capture complex linguistic phenomena</td>\n",
    "    <td>Less expressive, mainly focused on phrase structure</td>\n",
    "  </tr>\n",
    "  <tr>\n",
    "    <td>Integration of syntax, semantics, and morphology</td>\n",
    "    <td>Integrated within a single formalism</td>\n",
    "    <td>Separate components in the theory</td>\n",
    "  </tr>\n",
    "</table>\n"
   ]
  }
 ],
 "metadata": {
  "language_info": {
   "name": "python"
  },
  "orig_nbformat": 4
 },
 "nbformat": 4,
 "nbformat_minor": 2
}
