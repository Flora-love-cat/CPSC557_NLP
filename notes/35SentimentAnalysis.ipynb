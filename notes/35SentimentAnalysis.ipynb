{
 "cells": [
  {
   "attachments": {},
   "cell_type": "markdown",
   "metadata": {},
   "source": [
    "# sentiment analysis"
   ]
  },
  {
   "attachments": {},
   "cell_type": "markdown",
   "metadata": {},
   "source": [
    "## Definition\n",
    "\n",
    "Sentiment analysis: analyze how people feel about a particular topic, product, or service by identifying, extracting, quantifying opinion words from text.\n",
    "\n",
    "sentiment target\n",
    "- entity\n",
    "- aspect\n",
    "\n",
    "text source\n",
    "- movide/customer/patient review\n",
    "- social media post, blog\n",
    "\n",
    "text of different level of granularity\n",
    "- document\n",
    "- sentence\n",
    "- attribute"
   ]
  },
  {
   "attachments": {},
   "cell_type": "markdown",
   "metadata": {},
   "source": [
    "## Types\n",
    "\n",
    "- Subjectivity analysis: subjective (degree) vs. objective\n",
    "\n",
    "- Polarity analysis: positive/negative/neutral, number of stars\n",
    "\n",
    "- Viewpoint analysis: identify which side people is on (e.g., political party Republican vs. Democrat)\n"
   ]
  },
  {
   "attachments": {},
   "cell_type": "markdown",
   "metadata": {},
   "source": [
    "## Sentiment Analysis is Classification problem\n",
    "\n",
    "large training data available, e.g., movie reviews\n",
    "\n",
    "- IMDb dataset is a binary sentiment analysis dataset consisting of 50,000 even number of positive or negative reviews from the Internet Movie Database (IMDb).\n",
    "    - Only highly polarizing reviews are considered. \n",
    "        - A negative review has a score < 4 out of 10\n",
    "        - a positive review has a score ≥ 7 out of 10. \n",
    "    - No more than 30 reviews are included per movie. \n",
    "    - Models are evaluated based on accuracy.\n",
    "\n",
    "- Stanford Sentiment Treebank contains of 215,154 phrases with fine-grained sentiment labels in the parse trees of 11,855 sentences in movie reviews. \n",
    "\n",
    "    - Models are evaluated either on fine-grained (five-way) or binary classification based on accuracy.\n",
    "\n",
    "Features: Presence more important than frequency\n",
    "- opion words: base, comparative 比较级 (e.g. better or worse), negation 否定词 (e.g., \"Not great\")\n",
    "- context-sensitive words: words can have different sentiment implications depending on the context. (e.g., \"very\", \"raise\", \"advanced\", \"progressive\")\n",
    "- Punctuation: exclamation points (!), emojis\n",
    "- Phrases\n",
    "- n-gram and syntactic structure\n",
    "- compositionality: combining words can create new meanings.\n",
    "\n",
    "\n",
    "methods \n",
    "\n",
    "- ML: Logistic Regression, SVM, Naïve Bayes, Pointwise Mutual information (PMI)\n",
    "\n",
    "    PMI: compare co-occurrence with known positive and negative words\n",
    "\n",
    "    polarity(word) = PMI(word, 'excellent') - PMI(word, 'poor')\n",
    "\n",
    "- dictionary-based: start with known seed words (e.g., happy, angry), expand by WordNext, find synonyms, hypernyms of seed words. The sentiment score of a text is calculated by summing up the sentiment scores of its constituent words.\n",
    "\n",
    "- DL: LSTM, Recursive Neural Network (RecNN), deep averaging network (DAN)\n"
   ]
  },
  {
   "attachments": {},
   "cell_type": "markdown",
   "metadata": {},
   "source": [
    "## Difficulty in sentiment analysis\n",
    "\n",
    "- Subtlety: detect subtle expressions of opinions that may not be explicitly positive or negative.\n",
    "\n",
    "- Concession: recognize concessionary statements 让步语句 \"I usually love this brand, but this product was disappointing.\"\n",
    "\n",
    "- Manipulation: identify manipulated sentiment expressions, such as fake reviews or astroturfing. 刷单评论，机器评论\n",
    "\n",
    "- Sarcasm and irony: actual meaning is opposite.\n",
    "\n",
    "- Affect and emotions 情感和情绪: \n",
    "    \n",
    "    affective states are very complex, e.g., can be divided into 3 emotional dimensions (valence, arousal, dominance)\n",
    "\n",
    "    words have different intensities for words express emotion anger, feature joy, or sadness."
   ]
  },
  {
   "attachments": {},
   "cell_type": "markdown",
   "metadata": {},
   "source": [
    "## Sentiment Lexicon\n",
    "\n",
    "\n",
    "A sentiment lexicon is a collection of opinion words associated with their sentiment orientation, e.g., positive or negative, sentiment scores.\n",
    "\n",
    "- SentiWordNet\n",
    "\n",
    "- General Inquirer: 2,000 positive words and 2,000 negative words\n",
    "\n",
    "- LIWC\n",
    "\n",
    "- Bing Liu's opinion dataset\n",
    "\n",
    "- MPQA subjectivity lexicon\n"
   ]
  },
  {
   "cell_type": "markdown",
   "metadata": {},
   "source": []
  }
 ],
 "metadata": {
  "language_info": {
   "name": "python"
  },
  "orig_nbformat": 4
 },
 "nbformat": 4,
 "nbformat_minor": 2
}
