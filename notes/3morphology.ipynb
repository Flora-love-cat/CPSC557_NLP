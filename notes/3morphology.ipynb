{
 "cells": [
  {
   "attachments": {},
   "cell_type": "markdown",
   "metadata": {},
   "source": [
    "# morphology"
   ]
  },
  {
   "cell_type": "markdown",
   "metadata": {},
   "source": [
    "morphology is the study of structure and formation of words through combination of morphemes.\n",
    "\n",
    "Morphemes are the smallest meaningful units in a language, and they can be base words, affixes and ending. \n",
    "\n",
    "\n",
    "- Base word: a word that can stand on its own and does not require any affixes to convey meaning.  Base words can be roots or stem. adding affixes to Base words can create new words. e.g., \"play\" + \"ing\" = \"playing\".\n",
    "\n",
    "    - Stem: root or combination of a root with affixes. \n",
    "        \n",
    "        e.g., \"run\" in word \"running\"; \"unhappy\" in word \"unhappiness\"\n",
    "    \n",
    "    - Root: A root is the most basic form of a word that carries the primary meaning. It cannot be further broken down into smaller units. e.g., \"cat,\", \"run\" and \"happy\" are root morphemes.\n",
    "\n",
    "- Affixes: can be attached to a root/stem/base word to change its meaning or function. There are several types of affixes:\n",
    "\n",
    "    - Prefixes: Added to the beginning of a word (e.g., \"un\" in \"unhappy\", \"re-\" in \"redo,\" and \"pre-\" in \"preheat.\").\n",
    "\n",
    "    - Infixes: Inserted within a word. rare in English, more common in other languages. (e.g., lots of 'o' in 'goooood' to emphasize good)\n",
    "\n",
    "    - Suffixes: Added to the end of a word (e.g., \"ing\" in \"running\", \"-ed\" in \"played,\" and \"-ness\" in \"happiness.\").\n",
    "\n",
    "    - Circumfixes: Added to both the beginning and end of a word. It consists of a combination of a prefix and a suffix. (e.g., \"en\" and \"ed\" in \"enclosed\").\n",
    "\n",
    "    - Null morpheme: A morpheme that doesn't have a phonetic realization but still carries meaning. e.g., plural form of \"sheep\" remains \"sheep\".\n",
    "\n",
    "- Ending: An inflectional morpheme added to the end of a word to indicate its grammatical function, such as tense, number, case, or gender. For example, in the word \"agrees,\" the \"-s\" ending indicates the third person singular form of the verb.\n"
   ]
  },
  {
   "cell_type": "markdown",
   "metadata": {},
   "source": [
    "### morphological analysis"
   ]
  },
  {
   "cell_type": "markdown",
   "metadata": {},
   "source": [
    "Morphological analysis: words are decomposed into their constituent morphemes = base forms + affixes."
   ]
  },
  {
   "cell_type": "markdown",
   "metadata": {},
   "source": [
    "**examples**\n",
    "\n",
    "sleeps = sleep + V + 3P + SG (\"sleeps\" can be understood as the third person singular form of the verb \"sleep\")\n",
    "\n",
    "- \"sleep\" is the base form (stem) of the verb.\n",
    "\n",
    "- \"V\" represents the word class or part of speech (verb).\n",
    "\n",
    "- \"3P\" indicates the third person (he, she, or it).\n",
    "\n",
    "- \"SG\" denotes the singular number (referring to just one person or thing).\n",
    "\n",
    "done = do + V + PP (\"done\" is the past participle form of the verb \"do\")\n",
    "\n",
    "- \"do\" is the base form (stem) of the verb.\n",
    "\n",
    "- \"V\" represents the word class or part of speech (verb).\n",
    "\n",
    "- \"PP\" stands for the past participle, which indicates a completed action."
   ]
  },
  {
   "cell_type": "markdown",
   "metadata": {},
   "source": [
    "### derivational morphology"
   ]
  },
  {
   "cell_type": "markdown",
   "metadata": {},
   "source": [
    "Derivational morphology is the study of how words are formed by adding morphemes to change a word's meaning or create a new word. \n",
    "\n",
    "**a word = prefix + stem + suffix + ending**\n",
    "\n",
    "- Different morphemes can have various functions, such as:\n",
    "\n",
    "    ness: a suffix forms a noun from an adjective (happiness, darkness)\n",
    "\n",
    "    able: a suffix forms an adjective from a verb (manageable, readable)\n",
    "\n",
    "    ing: a suffix forms a verb (running, swimming)\n",
    "\n",
    "    re: a prefix meaning \"again\" or \"back\" (rewrite, return)\n",
    "\n",
    "    un: a prefix meaning \"not\" (unclear, unhappy)\n",
    "\n",
    "    er: multiple interpretations depending on the context. a suffix forms a noun from a verb (worker, teacher), or formthe comparative degree of adjectives (bigger, smaller)\n",
    "\n",
    "- Recursion: The process of combining multiple morphemes to a base word to form more complex words. \n",
    "\n",
    "    e.g., \"unconcernednesses\" is formed by adding the morphemes \"un-\", \"-ed\", \"-ness\", and \"-es\" to the base word \"concern.\"\n",
    "\n",
    "- Ambiguity: Some derivational morphemes can lead to ambiguous interpretations of the resulting word. For example:\n",
    "\n",
    "    - Uncloggable: can mean \"unable to be clogged\" or \"able to be unclogged.\"\n",
    "\n",
    "    - Unbelievable: usually means \"unable to be believed,\" but unlikelytheory, mean \"able to be unbelieved\""
   ]
  },
  {
   "cell_type": "markdown",
   "metadata": {},
   "source": [
    "### Inflectional morphology"
   ]
  },
  {
   "cell_type": "markdown",
   "metadata": {},
   "source": [
    "Inflectional morphology is the study of how words change their form to indicate grammatical features such as tense, number, person, mood, aspect, or case. \n",
    "\n",
    "Unlike derivational morphology, inflectional morphology does not change a word's meaning or create new words. Instead, it adds grammatical information to existing words. \n",
    "\n",
    "Here are some examples of inflectional morphology in different languages:\n",
    "\n",
    "- English: relatively few inflectional morphemes compared to many other languages. \n",
    "\n",
    "    verbs inflects for tense, aspect, or agreement with the subject (e.g., walk, walks, walked, walking). Five verb form.\n",
    "    \n",
    "    Nouns inflects for number (e.g., cat, cats) and possession (e.g., cat's, cats').\n",
    "\n",
    "\n",
    "- French: more inflectional forms than English, especially for verbs. \n",
    "\n",
    "    verb inflects for tense, mood, and person (e.g., parle, parlons, parlais, parlerai).  40+ forms. \n",
    "    \n",
    "    Nouns and adjectives inflect for *gender* and number (e.g., chat, chatte, chats, chattes).\n",
    "\n",
    "- Russian: nouns, pronouns, adjectives, and numerals inflect for six cases: nominative, genitive, dative, accusative, instrumental, and prepositional. \n",
    "\n",
    "    These cases indicate the grammatical role of the word in a sentence (e.g., subject, object, or indirect object). \n",
    "    \n",
    "    Verbs also inflect for tense, aspect, mood, and person.\n",
    "\n",
    "\n",
    "- Turkish: Turkish is an agglutinative language, meaning that it builds words by attaching a series of morphemes to a root. 40,000 forms"
   ]
  }
 ],
 "metadata": {
  "language_info": {
   "name": "python"
  },
  "orig_nbformat": 4
 },
 "nbformat": 4,
 "nbformat_minor": 2
}
