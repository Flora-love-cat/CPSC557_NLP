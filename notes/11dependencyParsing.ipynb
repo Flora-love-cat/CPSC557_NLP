{
 "cells": [
  {
   "cell_type": "markdown",
   "metadata": {},
   "source": [
    "# dependency grammar"
   ]
  },
  {
   "cell_type": "markdown",
   "metadata": {},
   "source": [
    "Dependency Grammar: represent sentences based on the dependency relations between words.\n",
    "\n",
    "- Older and less expressive power than constituent/formal grammar\n",
    "\n",
    "- Useful for free word order languages\n",
    "\n",
    "dependency tree\n",
    "\n",
    "- node: words\n",
    "\n",
    "    - root (governor, parent, regent): top-level predicate of a sentence\n",
    "\n",
    "    - head: required\n",
    "\n",
    "    - modifier (dependent, child, subordinate): optional. Fixed linear position of modifier w.r.t head\n",
    "\n",
    "- edge: Lexical/syntactic dependency between a head and a modifier. "
   ]
  },
  {
   "cell_type": "markdown",
   "metadata": {},
   "source": [
    "# dependency parsing"
   ]
  },
  {
   "attachments": {},
   "cell_type": "markdown",
   "metadata": {},
   "source": [
    "projective parsing: \n",
    "\n",
    "- dependency tree has no intersecting arcs/edges. \n",
    "\n",
    "- languages with rigid word order (English).\n",
    "\n",
    "Non-projective parsing: \n",
    "\n",
    "- dependency tree has intersecting arcs. \n",
    "\n",
    "- languages with free word order (Swiss German), or languages with rigid word order in certain constructions, such as topicalization (e.g., \"Cats, I like a lot.\") and extraposition (e.g., The pizza is ready with pepperoni.) 局部化和外推\n",
    "\n",
    "- harder than projective parsing \n",
    "\n",
    "- parsing method:  SWAP operator (switch the order of two adjacent words)"
   ]
  },
  {
   "attachments": {},
   "cell_type": "markdown",
   "metadata": {},
   "source": [
    "<table>\n",
    "  <tr>\n",
    "    <th>Sentence \"eat pizza with pepperoni\"</th>\n",
    "    <th>Sentence \"eat pizza with fork\"</th>\n",
    "  </tr>\n",
    "  <tr>\n",
    "    <td>\n",
    "      <pre>\n",
    "1 eat   0 ROOT\n",
    "2 pizza 1 DOBJ\n",
    "3 with  2 PREP\n",
    "<span style=\"color:red\">4 pepperoni 3 POBJ</span>\n",
    "      </pre>\n",
    "    </td>\n",
    "    <td>\n",
    "      <pre>\n",
    "1 eat   0 ROOT\n",
    "2 pizza 1 DOBJ\n",
    "<span style=\"color:red\">3 with  1 PREP</span>\n",
    "4 fork  3 POBJ\n",
    "      </pre>\n",
    "    </td>\n",
    "  </tr>\n",
    "</table>\n"
   ]
  },
  {
   "attachments": {},
   "cell_type": "markdown",
   "metadata": {},
   "source": [
    "## algorithm"
   ]
  },
  {
   "attachments": {},
   "cell_type": "markdown",
   "metadata": {},
   "source": [
    "CKY: classic DP algorithm $O(N^3)$\n",
    "\n",
    "**Graph-Based Dependency Parsing**\n",
    "\n",
    "- search for a maximum spanning tree (MST) in a directed graph\n",
    "- efficient algorithm for non-projective parsing $O(N^2)$\n",
    "\n",
    "**Transition-Based Parsing**\n",
    "- for projective parsing\n",
    "- Similar to shift-reduce\n",
    "- Data structures: stack of partially processed (unattached) words, input buffer, and set of dependency arcs\n",
    "\n",
    "- MaltParser\n",
    "    - Reduce operations combine elements from the stack and buffer\n",
    "    - Arc-standard parser: actions are shift, left-arc, right-arc\n",
    "    - Arc-eager parser: actions are shift, reduce, left-arc, right-arc"
   ]
  },
  {
   "attachments": {},
   "cell_type": "markdown",
   "metadata": {},
   "source": [
    "**neural dependency parsing**"
   ]
  },
  {
   "cell_type": "markdown",
   "metadata": {},
   "source": [
    "Since Neural Dependency Parser, various NN models have been proposed, including GNN and LSTMs or transformers"
   ]
  },
  {
   "attachments": {},
   "cell_type": "markdown",
   "metadata": {},
   "source": [
    "Neural Dependency Parser [Chen and Manning, 2014]\n",
    "\n",
    "- projective parsing\n",
    "\n",
    "- Architecture: Feedforward neural network\n",
    "\n",
    "    - Input: Word embeddings, part-of-speech tag embeddings, and current parser state (including stack and buffer)\n",
    "\n",
    "    - intermidiate Output: Predicted parsing action (SHIFT, LEFT-ARC, or RIGHT-ARC)\n",
    "\n",
    "    - final output: a dependency tree\n",
    "\n",
    "- Objective function: Maximize the log likelihood of correct parsing actions\n",
    "\n",
    "- Algorithm: Arc-standard transition system"
   ]
  },
  {
   "attachments": {},
   "cell_type": "markdown",
   "metadata": {},
   "source": [
    "<img src='https://hyunyoung2.github.io/img/Image/NaturalLanguageProcessing/NLPLabs/Paper_Investigation/Dependecy_Parsing/2020-09-26-A_Fast_and_Accurate_Dependency_Parser_using_Neural_Networks//transition_based_dependency_parsing_architecture.PNG' />"
   ]
  },
  {
   "cell_type": "markdown",
   "metadata": {},
   "source": []
  }
 ],
 "metadata": {
  "language_info": {
   "name": "python"
  },
  "orig_nbformat": 4
 },
 "nbformat": 4,
 "nbformat_minor": 2
}
