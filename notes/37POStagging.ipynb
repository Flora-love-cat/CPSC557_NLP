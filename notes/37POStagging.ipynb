{
 "cells": [
  {
   "attachments": {},
   "cell_type": "markdown",
   "metadata": {},
   "source": [
    "# Part-of-speech tagging (POS tagging)"
   ]
  },
  {
   "attachments": {},
   "cell_type": "markdown",
   "metadata": {},
   "source": [
    "Part-of-speech (POS) tagging: assign a part-of-speech label to each word in a given text."
   ]
  },
  {
   "attachments": {},
   "cell_type": "markdown",
   "metadata": {},
   "source": [
    "## history"
   ]
  },
  {
   "attachments": {},
   "cell_type": "markdown",
   "metadata": {},
   "source": [
    "| Year      | Era                           | Classic Models                      | Datasets                    |\n",
    "|-----------|-------------------------------|-------------------------------------|-----------------------------|\n",
    "| 1960s-70s | rule-based      | Stanford Parser                     | Brown Corpus                |\n",
    "| 1980s     | statistical   | Hidden Markov Model and Viterbi algorithm       |                             |\n",
    "| 1990s-00s     |   Transformation-based learning     |  Brill's Tagger   | Penn Treebank               |\n",
    "| 2000s     | ML          | Decision trees C4.5, MaxEnt, Conditional Random Fields, SVMs           |                             |\n",
    "| 2010s     | Neural networks & deep learning | RNNs, LSTMs, BiLSTMs             | Universal Dependencies      |\n",
    "| Late 2010s-2020s | Pre-trained language models | BERT, GPT, ELMo               | CoNLL Shared Task datasets  |\n"
   ]
  },
  {
   "cell_type": "markdown",
   "metadata": {},
   "source": [
    "## POS tags"
   ]
  },
  {
   "cell_type": "markdown",
   "metadata": {},
   "source": [
    "The set of POS tags varies depending on the tagging scheme"
   ]
  },
  {
   "cell_type": "markdown",
   "metadata": {},
   "source": [
    "in the Penn Treebank tagset:\n",
    "\n",
    "NN: Noun, singular or mass\n",
    "\n",
    "NNS: Noun, plural\n",
    "\n",
    "NNP: Proper noun, singular\n",
    "\n",
    "NNPS: Proper noun, plural\n",
    "\n",
    "VB: Verb, base form\n",
    "\n",
    "VBD: Verb, past tense\n",
    "\n",
    "VBG: Verb, gerund or present participle\n",
    "\n",
    "VBN: Verb, past participle\n",
    "\n",
    "VBP: Verb, non-3rd person singular present\n",
    "\n",
    "VBZ: Verb, 3rd person singular present\n",
    "\n",
    "JJ: Adjective\n",
    "\n",
    "JJR: Adjective, comparative\n",
    "\n",
    "JJS: Adjective, superlative\n",
    "\n",
    "RB: Adverb\n",
    "\n",
    "RBR: Adverb, comparative\n",
    "\n",
    "RBS: Adverb, superlative\n",
    "\n",
    "IN: Preposition or subordinating conjunction\n",
    "\n",
    "DT: Determiner\n",
    "\n",
    "PRP: Personal pronoun\n",
    "\n",
    "PRP$: Possessive pronoun\n",
    "\n",
    "CC: Coordinating conjunction\n",
    "\n",
    "CD: Cardinal number\n",
    "\n",
    "MD: Modal"
   ]
  },
  {
   "attachments": {},
   "cell_type": "markdown",
   "metadata": {},
   "source": [
    "## Challenges in POS tagging"
   ]
  },
  {
   "attachments": {},
   "cell_type": "markdown",
   "metadata": {},
   "source": [
    "\n",
    "Ambiguity: ambiguous words can have multiple POS tags depending on the context. For example, the word \"book\" can be a noun or a verb, and the correct tag depends on the surrounding words.\n",
    "\n",
    "Unknown words: Handling words that are not present in the training dataset. These unknown words may have various POS tags, and the model should be able to infer their tags based on the context or morphological features. the default tag is NOUN.\n",
    "\n",
    "Colloquial language and domain-specific vocabulary: words may not be well-represented in the training data.\n",
    "\n",
    "Morphologically rich languages: words can have multiple forms and affixes. Models need to capture morphological patterns and rules to accurately tag words in these languages."
   ]
  },
  {
   "attachments": {},
   "cell_type": "markdown",
   "metadata": {},
   "source": [
    "## evaluation"
   ]
  },
  {
   "attachments": {},
   "cell_type": "markdown",
   "metadata": {},
   "source": [
    "POS tagging is a token-level classification task, evaluation metrics are traditional classification metrics\n",
    "\n",
    "- accuracy, Precision, Recall, and F1-score"
   ]
  }
 ],
 "metadata": {
  "language_info": {
   "name": "python"
  },
  "orig_nbformat": 4
 },
 "nbformat": 4,
 "nbformat_minor": 2
}
