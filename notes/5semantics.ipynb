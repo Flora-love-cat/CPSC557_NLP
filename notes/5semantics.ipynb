{
 "cells": [
  {
   "cell_type": "markdown",
   "metadata": {},
   "source": [
    "# Semantics"
   ]
  },
  {
   "cell_type": "markdown",
   "metadata": {},
   "source": [
    "## lexical semantics 词汇语义学"
   ]
  },
  {
   "cell_type": "markdown",
   "metadata": {},
   "source": [
    "### mental lexicon 词典"
   ]
  },
  {
   "cell_type": "markdown",
   "metadata": {},
   "source": [
    "- Morphology plays an essential role in organizing and expanding the mental lexicon.\n",
    "\n",
    "    The mental lexicon is an individual's internal store/dictionary of knowledge about words, including their morphological information, meanings, pronunciations, parts of speech, and other linguistic properties. \n",
    "\n",
    "    mental lexicon help us understand and produce language.\n",
    "\n",
    "- When we encounter new words or word forms, our mental lexicon is updated by analyzing the morphological structure of these words.\n",
    "\n",
    "    For example, consider the word \"unhappiness.\" \n",
    "\n",
    "    Our mental lexicon recognizes the base word \"happy\" (an adjective), the prefix \"un-\" (which reverses the meaning), and the suffix \"-ness\" (which turns an adjective into a noun). By understanding the morphological structure of the word, we can infer that \"unhappiness\" means \"the state of not being happy.\""
   ]
  },
  {
   "cell_type": "markdown",
   "metadata": {},
   "source": [
    "**Example**\n",
    "\n",
    "\n",
    "words exist in mental lexicon: \n",
    "\n",
    "- \"cat\"\n",
    "\n",
    "    - semantic representation: a small domesticated carnivorous mammal with soft fur, a short snout, and retractile claws.\n",
    "\n",
    "    - Pronunciation:specific sounds used to articulate the word in spoken language. In English, \"cat\" is pronounced /kæt/.\n",
    "\n",
    "    - Part of speech: grammatical category, such as noun, verb, adjective, or adverb. \"Cat\" is a noun.\n",
    "\n",
    "- \"runs\": have two interpretations\n",
    "\n",
    "    - third-person singular form of the verb \"to run\" (e.g., \"She runs every morning\")\n",
    "    \n",
    "    - plural form of the noun \"run\" (e.g., \"He scored two runs in the game\").\n",
    "\n",
    "\n",
    "words not exist in mental lexicon: \n",
    "\n",
    "- \"Wug\" is a made-up word created by linguist Jean Berko Gleason to study morphological rules in language. looks like a noun. it doesn't have a predefined meaning in the mental lexicon.\n",
    "\n",
    "- \"cluvious\": also a made-up word. looks like an adjective."
   ]
  },
  {
   "cell_type": "markdown",
   "metadata": {},
   "source": [
    "### word meaning"
   ]
  },
  {
   "cell_type": "markdown",
   "metadata": {},
   "source": [
    "[WordNET](https://wordnet.princeton.edu/): a tree structure database of words and semantic relations between them, main relation is hypernymy. maintained by Princeton"
   ]
  },
  {
   "cell_type": "markdown",
   "metadata": {},
   "source": [
    "same word\n",
    "\n",
    "- polysemy 多义词: a word have multiple meanings/senses\n",
    "\n",
    "- metonymy 转喻: white house = US president\n",
    "\n",
    "word-word\n",
    "\n",
    "- synonym and antonym 近义词, 反义词: different word have similar meanings but may differ in frequency and occasion of use (formal vs. casual). synset 同义词集\n",
    "\n",
    "- hypernymy and hyponymy 上级词, 下级词: bird > eagle\n",
    "\n",
    "- meronymy 整体和部分的关系 a table (whole) has legs (part)\n",
    "\n"
   ]
  },
  {
   "attachments": {},
   "cell_type": "markdown",
   "metadata": {},
   "source": [
    "### Types of pronouns 代词\n",
    "\n",
    "Personal pronouns 人称: These pronouns replace nouns representing people or things (e.g., I, you, he, she, it, we, they).\n",
    "\n",
    "Possessive pronouns 所有: These pronouns indicate ownership or possession (e.g., mine, yours, his, hers, its, ours, theirs).\n",
    "\n",
    "Reflexive pronouns 反身: These pronouns refer back to the subject of the sentence or clause (e.g., myself, yourself, himself, herself, itself, ourselves, yourselves, themselves).\n",
    "\n",
    "Reciprocal pronouns 相互: These pronouns express a mutual relationship or action (e.g., each other, one another).\n",
    "\n",
    "Demonstrative pronouns : These pronouns point to specific objects, people, or places (e.g., this, that, these, those).\n",
    "\n",
    "Interrogative pronouns 疑问: These pronouns are used to ask questions (e.g., who, whom, whose, which, what).\n",
    "\n",
    "Relative pronouns 关系: These pronouns introduce relative clauses and refer to an antecedent (e.g., who, whom, whose, which, that).\n",
    "\n",
    "Indefinite pronouns 不定: These pronouns refer to unspecified people or things (e.g., anyone, everybody, nobody, something, any, each, either, neither, both, several)."
   ]
  },
  {
   "attachments": {},
   "cell_type": "markdown",
   "metadata": {},
   "source": [
    "### Types of deixis\n",
    "\n",
    "Deixis 指示词 refers to words or phrases that require contextual information to be fully understood. \n",
    "\n",
    "There are several types of deixis:\n",
    "\n",
    "Person deixis 人称: Refers to the use of pronouns or other words to indicate the person speaking (first person), the person being spoken to (second person), or the person being spoken about (third person). Examples: I, you, he, she, we, they.\n",
    "\n",
    "Spatial deixis 空间: Refers to the use of words or phrases to indicate a specific location or direction in relation to the speaker or the listener. Examples: here, there, this, that, these, those.\n",
    "\n",
    "Temporal deixis 时间: Refers to the use of words or phrases to indicate a specific point or period in time relative to the moment of speaking. Examples: now, then, today, tomorrow, yesterday, ago.\n",
    "\n",
    "Discourse deixis 语篇: Refers to words or phrases that point to a specific part of the ongoing conversation or discourse. Examples: this (referring to a previously mentioned idea), that (referring to a following statement).\n",
    "\n",
    "Social deixis 社会: Refers to words or phrases that indicate social relationships or roles between the speaker, the listener, and other participants in the conversation. Examples: titles (Mr., Mrs., Dr.), kinship terms (father, sister), and terms of address (sir, ma'am)."
   ]
  },
  {
   "cell_type": "markdown",
   "metadata": {},
   "source": [
    "## distributional demantics"
   ]
  },
  {
   "cell_type": "markdown",
   "metadata": {},
   "source": [
    "Distributional semantics: \n",
    "\n",
    "- meaning of a word can be inferred from its context. \n",
    "\n",
    "- words that occur in similar contexts tend to have similar meanings. \n",
    "\n",
    "- slogan [linguist J.R. Firth, 1950s.] \"You shall know a word by the company it keeps\" \n",
    "\n",
    "- basis for prediction-based word embedding model, e.g., word2text, GloVe"
   ]
  },
  {
   "attachments": {},
   "cell_type": "markdown",
   "metadata": {},
   "source": [
    "**Distributional regularities**: patterns and relationships between words that often co-occur within specific contexts. "
   ]
  },
  {
   "cell_type": "markdown",
   "metadata": {},
   "source": [
    "<h5>Study change of word meaning by distributed word embeddings<h5/>\n",
    "<img src=\"https://miro.medium.com/v2/resize:fit:1400/1*zrf7qMoQqBCNFIkt0PTCeQ.png\" style='width: 80%'/>"
   ]
  },
  {
   "attachments": {},
   "cell_type": "markdown",
   "metadata": {},
   "source": [
    "## compositional Semantics 组合语义学"
   ]
  },
  {
   "attachments": {},
   "cell_type": "markdown",
   "metadata": {},
   "source": [
    "meaning of sentence depends on meaning and combination of constituents 成分 (words, phrases)\n",
    "\n",
    "word embedding -> phrase/sentence embedding"
   ]
  },
  {
   "attachments": {},
   "cell_type": "markdown",
   "metadata": {},
   "source": [
    "### type"
   ]
  },
  {
   "cell_type": "markdown",
   "metadata": {},
   "source": [
    "- e: Entities, representing individual objects or things in the world, such as people, animals, or places. e.g., \"Jorge\", \"he\", A123\n",
    "\n",
    "- t: Truth values, representing the truth or falsity of propositions or statements. e.g., \"Janice likes cats\"\n",
    "\n",
    "- <e,t> : Unary predicates, representing properties or relations that take a single entity as their argument and return a truth value (e.g., \"is red\").\n",
    "\n",
    "- <e,<e,t>> :  Binary predicates, representing relations between two entities that return a truth value (e.g., \"loves\" as in \"Alice loves Bob\").\n",
    "\n",
    "- <<e,t>,t> : type-raised entities. \"every person\"\n",
    "\n",
    "- <t,t>: Unary operators on truth values, such as negation (e.g., \"not\").\n",
    "\n",
    "- <<e,t>,<e,t>>: Binary operators on unary predicates, such as conjunction (e.g., \"and\" as in \"is red and is tall\")."
   ]
  },
  {
   "attachments": {},
   "cell_type": "markdown",
   "metadata": {},
   "source": [
    "### selectional restriction"
   ]
  },
  {
   "cell_type": "markdown",
   "metadata": {},
   "source": [
    "Selectional restrictions: Some verbs or adjectives can only take arguments of certain **subtypes**.\n",
    "\n",
    "- A verb like \"eat\" requiring an object of type \"edible object.\"\n",
    "\n",
    "- A verb like \"know\" requiring a subject of type \"animate entity\" and an object of type \"fact\" or \"proposition.\"\n",
    "\n",
    "- An adjective like \"tall\" requiring a noun of type \"measurable entity.\"\n"
   ]
  },
  {
   "attachments": {},
   "cell_type": "markdown",
   "metadata": {},
   "source": [
    "\n",
    "\n",
    "### Subtype\n",
    "\n",
    "- in a type hierarchicay, Subtypes are more specific categories within broader categories\n",
    "\n",
    "- subsyptes inherit properties from their parent categories. \n",
    "\n",
    "- Note: subtype is a semantic concept while subcategorization is a syntatic concept\n",
    "\n",
    "- example Type hierarchy: \n",
    "\n",
    "        object > edible object > fruit > banana\n",
    "\n",
    "        noun > count noun 可数名词\n",
    "             > mass noun 不可数名词\n",
    "\n",
    "\n",
    "\n",
    "### Type Coercion 强制类型转换\n",
    "\n",
    "-  when semantic type of a constitunent does not meet the selectional restrictions in the context, interpret it as another semantic type\n",
    "\n",
    "- natural language use implicit type coercion (metonymy 转喻) while Programming languages use explicit or implicit type coercion\n",
    "\n",
    "\n",
    "- Example \n",
    "\n",
    "| Sentence                           | raw Subtype | coerced Subtype            |\n",
    "|------------------------------------|------------------|------------------------|\n",
    "| I had **a coffee** this morning    | substance (a kind of drink)        | instance (One cup of coffee)      |\n",
    "| I tried **two wines** last night   | two glasses of wines        | Two types of wine      |\n",
    "| I had **fish** for dinner          | a Single fish      | portion of fish as food    |\n",
    "| I have read **this title**         | Name of a book   | Entire book            |\n",
    "| I like **Shakespeare**             | person   | Works by Shakespeare   |\n"
   ]
  },
  {
   "attachments": {},
   "cell_type": "markdown",
   "metadata": {},
   "source": [
    "### scope"
   ]
  },
  {
   "attachments": {},
   "cell_type": "markdown",
   "metadata": {},
   "source": [
    "Scope: interpretation of phrases and sentences w.r.t the order or arrangement of elements like quantifiers, negations, or modals that have a broader scope over other elements in the sentence"
   ]
  },
  {
   "cell_type": "markdown",
   "metadata": {},
   "source": [
    "The placement of \"only\" changes the scope of the word \"only\" restricts or emphasizes, which in turn alters the meaning of sentence\n",
    "\n",
    "- The bird **only** eats sunflower seeds. (\"only\" modifies verb \"eats.\")\n",
    "\n",
    "     the bird doesn't perform any other actions with sunflower seeds besides eating them.\n",
    "\n",
    "- The bird eats **only** sunflower seeds. (\"only\" modifies noun phrase \"sunflower seeds.\")\n",
    "- The bird eats sunflower seeds **only**. (\"only\" modifies noun phrase \"sunflower seeds.\")\n",
    "\n",
    "     the bird exclusively eats sunflower seeds and doesn't consume any other type of food.\n",
    "\n",
    "- **only** the bird eats sunflower seeds. (\"only\" modifies subject \"the bird.\")\n",
    "\n",
    "     no other creature or entity eats sunflower seeds, just the bird."
   ]
  }
 ],
 "metadata": {
  "language_info": {
   "name": "python"
  },
  "orig_nbformat": 4
 },
 "nbformat": 4,
 "nbformat_minor": 2
}
