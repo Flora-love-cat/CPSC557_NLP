{
 "cells": [
  {
   "attachments": {},
   "cell_type": "markdown",
   "metadata": {},
   "source": [
    "# Introduction to Natural Language Processing (NLP)"
   ]
  },
  {
   "attachments": {},
   "cell_type": "markdown",
   "metadata": {},
   "source": [
    "## Definition of NLP\n",
    "\n",
    "Natural Language Processing (NLP) is a subfield of artificial intelligence (AI) and linguistics, and cognitive science that focuses on the interaction between computers and human languages. \n",
    "\n",
    "It aims to develop algorithms and models that enable computers to understand, interpret, and generate human language in a way that is both meaningful and useful. "
   ]
  },
  {
   "attachments": {},
   "cell_type": "markdown",
   "metadata": {},
   "source": [
    "## Applications of NLP"
   ]
  },
  {
   "attachments": {},
   "cell_type": "markdown",
   "metadata": {},
   "source": [
    "some common applications of NLP are:\n",
    "\n",
    "- Part-of-speech (POS) tagging is the process of assigning grammatical categories (e.g., noun, verb, adjective) to each word in a text.\n",
    "\n",
    "- Sentiment analysis: Determining the sentiment or emotion behind a piece of text (e.g., positive, negative, or neutral).\n",
    "\n",
    "- Text classification: Categorizing text into predefined classes (e.g., spam detection, topic classification).\n",
    "\n",
    "- Machine translation: Automatically translating text from one language to another.\n",
    "\n",
    "- Information retrieval: Searching and retrieving relevant information from large datasets (e.g., search engines).\n",
    "\n",
    "- Named entity recognition: Identifying and classifying proper names, dates, organizations in a text.\n",
    "\n",
    "- Text summarization: Generating a concise summary of a longer text while preserving the main ideas.\n",
    "\n",
    "- Question answering: Providing accurate answers to questions posed by users.\n",
    "\n",
    "- Dialogue systems: Building chatbots or virtual assistants that can engage in conversation with users.\n",
    "\n",
    "- Speech recognition: Converting spoken language into written text."
   ]
  },
  {
   "cell_type": "markdown",
   "metadata": {},
   "source": [
    "<img src='https://static.packt-cdn.com/products/9781789536089/graphics/assets/0bd4c08a-3dbf-4d48-9fb8-d7800c486b63.png' />"
   ]
  },
  {
   "attachments": {},
   "cell_type": "markdown",
   "metadata": {},
   "source": [
    "- sequential data are not limited to text: time series, DNA sequence, weather, audio, video\n",
    "\n",
    "- seq oriented tasks have **variable length inputs, variable length outputs, variable length computation**, must remember history of input"
   ]
  },
  {
   "attachments": {},
   "cell_type": "markdown",
   "metadata": {},
   "source": [
    "## challenges in NLP"
   ]
  },
  {
   "attachments": {},
   "cell_type": "markdown",
   "metadata": {},
   "source": [
    "Ambiguity at various levels: lexical, syntactic, or semantic, pragmatic (context)\n",
    "\n",
    "morphological challenges: typos, Inconsistencies of compound words( junior college, college junior, pet spray, pet llama).\n",
    "\n",
    "lexical challenge (noisy text): slang, idioms, metaphors, noval words (selfie 自拍, chillax 放松), and other non-literal expressions (A360, 7342.67).\n",
    "\n",
    "Syntactic challenges: complex sentences (multiple clauses or components), parsing compound words or multi-word expressions\n",
    "\n",
    "Semantic challenges: Subjectivity (not fact), negation, counterfact or hypothesis.\n",
    "\n",
    "Pragmatic challenges: humor and sarcasm 幽默和讽刺, implicature, inference, world knowledge, and differentiating between literal and intended meanings.\n",
    "\n",
    "Evolving language: Languages constantly evolve, with new words and phrases emerging regularly.\n",
    "\n",
    "intrinsic complexity of human languages: language is challenging even for human learners, both for first and second languages. \n",
    "\n",
    "Multilinguality: Developing NLP systems that work well across multiple languages."
   ]
  },
  {
   "attachments": {},
   "cell_type": "markdown",
   "metadata": {},
   "source": [
    "## History of NLP"
   ]
  },
  {
   "attachments": {},
   "cell_type": "markdown",
   "metadata": {},
   "source": [
    "\n",
    "\n",
    "1. **Foundational insights (1940s-1950s)**: Early work by Turing (automaton), Shannon (information theory, noisy channel), and Backus & Naur (formal languages) laid the groundwork for NLP.\n",
    "\n",
    "2. **Two camps (1957-1970)**: Symbolic (Chomsky's Transformation Grammar, Artificial Intelligence) and stochastic (Bayesian reasoning, corpus work by Kučera & Francis) approaches emerged.\n",
    "\n",
    "3. **Four paradigms (1970-1983)**: Stochastic (IBM), logic-based (Colmerauer et al.), natural language understanding (Winograd, Schank, Fillmore), and discourse modeling (Grosz & Sidner).\n",
    "\n",
    "4. **Empiricism and finite-state models redux (1983-1993)**: Revival of empirical and finite-state models (Kaplan & Kay for phonology and morphology, Church for syntax).\n",
    "\n",
    "5. **Late years (1994-2010)**: Integration of techniques, expansion to speech and information retrieval (IR), probabilistic models, machine learning, structured prediction, and topic models.\n",
    "\n",
    "6. **recent years (2010-)**: ML and DL techniques \n",
    "\n",
    "    **Machine learning methods**: Support Vector Machines (SVM), logistic regression (maxent), Conditional Random Fields (CRFs)\n",
    "    \n",
    "    shared tasks: TREC (Text Retrieval Conference), DUC (Document Understanding Conference), TAC (Text Analysis Conference), SEM (Conference on Semantic Computing and Computational Semantics)\n",
    "\n",
    "    **Semantic tasks**: Recognizing Textual Entailment (RTE), Semantic Role Labeling (SRL).\n",
    "\n",
    "    **Semi-supervised and unsupervised methods**: Zero-shot learning, transfer learning, self-training.\n",
    "\n",
    "    **Deep Learning**: Embeddings, Long Short-Term Memory (LSTM), Convolutional Neural Networks (CNN), Attention, Generative Adversarial Networks (GANs), Transformers, BERT."
   ]
  },
  {
   "attachments": {},
   "cell_type": "markdown",
   "metadata": {},
   "source": [
    "## benchmark dataset"
   ]
  },
  {
   "cell_type": "markdown",
   "metadata": {},
   "source": [
    "| Name                | Full Name                                      | Task                        | Short Description                                                   |\n",
    "|---------------------|------------------------------------------------|-----------------------------|---------------------------------------------------------------------|\n",
    "| Penn Treebank (PTB) | Penn Treebank                                  | Syntactic parsing, POS tagging, Language modeling | Annotated corpus of English text for evaluating syntactic parsing and other tasks |\n",
    "| CoNLL-2003          | Conference on Computational Natural Language Learning 2003 | Named Entity Recognition    | Dataset for identifying and classifying named entities in text      |\n",
    "| TREC Question Classification | Text REtrieval Conference Question Classification | Question Classification | Dataset for categorizing questions into different classes          |\n",
    "| SQuAD               | Stanford Question Answering Dataset           | Reading Comprehension       | Dataset for answering questions based on a given context            |\n",
    "| IMDb                | Internet Movie Database                       | Sentiment Analysis          | Dataset of movie reviews labeled as either positive or negative     |\n",
    "| SNLI                | Stanford Natural Language Inference           | Natural Language Inference  | Dataset for determining the relationship between two sentences      |\n",
    "| MS MARCO            | Microsoft MAchine Reading COmprehension       | Machine Reading Comprehension | Large-scale dataset with real user queries and human-generated answers |\n",
    "| SemEval             | Semantic Evaluation                           | Various Semantic Analysis Tasks | Annual shared tasks evaluating models on different semantic analysis tasks |\n"
   ]
  },
  {
   "cell_type": "markdown",
   "metadata": {},
   "source": [
    "## genres of NLP text"
   ]
  },
  {
   "attachments": {},
   "cell_type": "markdown",
   "metadata": {},
   "source": [
    "Electronic Health Records (EHR)\n",
    "\n",
    "Online Repositories: Project Gutenberg, arXiv, JSTOR, PubMed\n",
    "\n",
    "Web Data: Web scraping, News articles, Blogs and personal websites\n",
    "\n",
    "Social Media Platforms: Twitter, Facebook, Reddit, Instagram\n",
    "\n",
    "Online Forums and Discussion Boards: Stack Exchange, Quora\n",
    "\n",
    "Published Works: Books, Research papers, Scholarly articles\n",
    "\n",
    "Corporate Documents: Company reports, Press releases, Internal documents\n",
    "\n",
    "Government and Legal Texts\n",
    "\n",
    "Conversational Data: Chat logs, Interview transcripts, Speech transcripts\n",
    "\n",
    "Customer Reviews and Feedback: Amazon reviews, Yelp reviews, TripAdvisor reviews\n",
    "\n",
    "Email and Messaging Data\n",
    "\n",
    "OCR-generated Text\n"
   ]
  },
  {
   "cell_type": "markdown",
   "metadata": {},
   "source": [
    "## Research in NLP"
   ]
  },
  {
   "cell_type": "markdown",
   "metadata": {},
   "source": [
    "NLP (Natural Language Processing):\n",
    "\n",
    "- ACL (Association for Computational Linguistics)\n",
    "\n",
    "- EMNLP (Conference on Empirical Methods in Natural Language Processing)\n",
    "\n",
    "- NAACL (North American Chapter of the Association for Computational Linguistics)\n",
    "\n",
    "ML (Machine Learning):\n",
    "\n",
    "- NeurIPS (Conference on Neural Information Processing Systems)\n",
    "\n",
    "- ICML (International Conference on Machine Learning)\n",
    "\n",
    "- ICLR (International Conference on Learning Representations)\n",
    "\n",
    "DL (Deep Learning): same conferences as ML and CV, such as NeurIPS, ICML, ICLR, CVPR, and ECCV.\n",
    "\n",
    "RL (Reinforcement Learning):\n",
    "\n",
    "- AAMAS (International Conference on Autonomous Agents and Multi-Agent Systems)\n",
    "\n",
    "- ICRA (International Conference on Robotics and Automation)\n",
    "\n",
    "- IROS (International Conference on Intelligent Robots and Systems)\n",
    "\n",
    "CV (Computer Vision):\n",
    "\n",
    "- CVPR (Conference on Computer Vision and Pattern Recognition)\n",
    "\n",
    "- ICCV (International Conference on Computer Vision)\n",
    "\n",
    "- ECCV (European Conference on Computer Vision)"
   ]
  },
  {
   "attachments": {},
   "cell_type": "markdown",
   "metadata": {},
   "source": [
    "## visualization tool"
   ]
  },
  {
   "attachments": {},
   "cell_type": "markdown",
   "metadata": {},
   "source": [
    "**Text Classification and Sentiment Analysis:**\n",
    "- [AllenAI Demos](https://allenai.org/demos/)\n",
    "\n",
    "**Named Entity Recognition (NER):**\n",
    "- [AllenNLP Named Entity Recognition Demo](https://demo.allennlp.org/named-entity-recognition)\n",
    "\n",
    "**Reading Comprehension:**\n",
    "- [AllenNLP Reading Comprehension Demo](https://demo.allennlp.org/reading-comprehension)\n",
    "\n",
    "**Parsing and Syntax Analysis:**\n",
    "- [CKY Parsing Demo](http://lxmls.it.pt/2015/cky.html)\n",
    "\n",
    "**Text Generation and Language Modeling:**\n",
    "- [TensorFlow Playground](https://playground.tensorflow.org/)\n",
    "- [Interactive Machine Learning List](https://p.migdal.pl/interactive-machine-learning-list/)\n",
    "\n",
    "**Text Similarity and Sequence Alignment:**\n",
    "- [Levenshtein Distance Demo](http://www.let.rug.nl/~kleiweg/lev/)\n",
    "- [Biological Sequence Alignment (Pairwise Align DNA)](http://www.bioinformatics.org/sms2/pairwise_align_dna.html)\n",
    "- [Animal Genome Sequence Formats](http://www.animalgenome.org/bioinfo/resources/manuals/seqformats)\n",
    "\n",
    "**Neural Network Visualization:**\n",
    "- [Neural Network Manifolds and Topology](http://colah.github.io/posts/2014-03-NN-Manifolds-Topology/)\n",
    "- [ConvNetJS](https://cs.stanford.edu/people/karpathy/convnetjs/)\n",
    "- [ConvNetJS MNIST Demo](https://cs.stanford.edu/people/karpathy/convnetjs/demo/mnist.html)\n",
    "\n",
    "**Transformer Model Visualization:**\n",
    "- [BERTViz](https://github.com/jessevig/bertviz)\n",
    "- [BERT Visualization Colab 1](https://colab.research.google.com/drive/1c73DtKNdl66B0_HF7QXuPenraDp0jHRS)\n",
    "- [BERT Visualization Colab 2](https://colab.research.google.com/drive/1PEHWRHrvxQvYr9NFRC-E_fr3xDq1htCj#scrollTo=fZAXH7hWyt58)\n",
    "\n",
    "**Miscellaneous:**\n",
    "- [Explosion AI Demos (spaCy and Prodigy)](https://explosion.ai/demos/)\n",
    "- [Stanford CoreNLP](https://corenlp.run/)\n"
   ]
  }
 ],
 "metadata": {
  "language_info": {
   "name": "python"
  },
  "orig_nbformat": 4
 },
 "nbformat": 4,
 "nbformat_minor": 2
}
