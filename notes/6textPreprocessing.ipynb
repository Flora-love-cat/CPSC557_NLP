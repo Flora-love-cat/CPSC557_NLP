{
 "cells": [
  {
   "attachments": {},
   "cell_type": "markdown",
   "metadata": {},
   "source": [
    "# Text preprocessing"
   ]
  },
  {
   "attachments": {},
   "cell_type": "markdown",
   "metadata": {},
   "source": [
    "- Cleaning\n",
    "    - Non-text\n",
    "        - Punctuation\n",
    "        - JavaScript\n",
    "    - Encoding\n",
    "\n",
    "- Segmentation\n",
    "\n",
    "    - Sentence segmentation (sentence boundary recognition): Document -> Sentence\n",
    "\n",
    "    - Tokenization\n",
    "        - Character level\n",
    "        - Subword level: Byte Pair Encoding or WordPiece\n",
    "        - Word level\n",
    "\n",
    "- Normalization\n",
    "\n",
    "    - Spell checking and correction\n",
    "\n",
    "    - Lowercase\n",
    "    \n",
    "    - Standardization\n",
    "\n",
    "- Stopword removal\n",
    "\n",
    "- Morphological processing\n",
    "\n",
    "    - Stemming (词干提取): Remove derivation morphology: happiness -> happy\n",
    "    \n",
    "    - Lemmatization (词形还原): Remove inflection morphology: better -> good\n",
    "\n",
    "- Part-of-speech tagging\n",
    "\n",
    "- Entity recognition\n",
    "    - Special characters (emoticons and emojis)\n",
    "    - Named entity\n",
    "    - URLs, emails\n",
    "    - Numbers and dates\n"
   ]
  },
  {
   "cell_type": "markdown",
   "metadata": {},
   "source": [
    "### sentence segmentation"
   ]
  },
  {
   "cell_type": "markdown",
   "metadata": {},
   "source": [
    "Sentence boundary recognition, also known as sentence segmentation, is the task of identifying the boundaries between sentences in a given text. \n",
    "\n",
    "It is an essential preprocessing step in many NLP tasks, such as parsing, machine translation, and information extraction. \n",
    "\n",
    "Sentence boundary recognition can be treated as a classification problem, where each potential boundary (usually a punctuation mark) is classified as either a sentence boundary or not.\n",
    "\n",
    "To perform sentence boundary recognition, various features can be used, including:\n",
    "\n",
    "- Punctuation: Periods `.`, question marks `?`, and exclamation marks `!`.\n",
    "\n",
    "- Formatting: Line breaks, paragraph breaks.\n",
    "\n",
    "- Fonts: Changes in font style or size.\n",
    "\n",
    "- Spacing: spaces before and after punctuation marks. For example, if there is no space after a period, it is less likely to be a sentence boundary.\n",
    "\n",
    "- Capitalization: The first word of a sentence is typically capitalized in many languages.\n",
    "\n",
    "- Case: Similar to capitalization, the case of characters in a word can provide clues about sentence boundaries.\n",
    "\n",
    "- Use of abbreviations: Certain abbreviations, like \"Dr.\" or \"a.m.\", may be followed by a period but not necessarily indicate the end of a sentence.\n",
    "\n",
    " "
   ]
  }
 ],
 "metadata": {
  "language_info": {
   "name": "python"
  },
  "orig_nbformat": 4
 },
 "nbformat": 4,
 "nbformat_minor": 2
}
